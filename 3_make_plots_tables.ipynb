{
 "cells": [
  {
   "cell_type": "code",
   "execution_count": 17,
   "metadata": {},
   "outputs": [
    {
     "name": "stdout",
     "output_type": "stream",
     "text": [
      "Populating the interactive namespace from numpy and matplotlib\n"
     ]
    },
    {
     "name": "stderr",
     "output_type": "stream",
     "text": [
      "/home/users/hmei/miniconda3/envs/daskworkerenv2/lib/python3.7/site-packages/IPython/core/magics/pylab.py:161: UserWarning: pylab import has clobbered these variables: ['f', 'xlabel']\n",
      "`%matplotlib` prevents importing * from pylab and numpy\n",
      "  \"\\n`%matplotlib` prevents importing * from pylab and numpy\"\n"
     ]
    }
   ],
   "source": [
    "from yahist import Hist1D,Hist2D\n",
    "from yahist.utils import plot_stack\n",
    "import numpy as np\n",
    "import json\n",
    "\n",
    "%pylab inline\n",
    "import matplotlib.pyplot as plt\n",
    "from matplotlib.colors import LogNorm\n",
    "\n",
    "import mplhep\n",
    "plt.style.use(mplhep.style.CMS)"
   ]
  },
  {
   "cell_type": "code",
   "execution_count": 19,
   "metadata": {},
   "outputs": [
    {
     "name": "stdout",
     "output_type": "stream",
     "text": [
      "Diphoton\n",
      "DYJets\n",
      "EGamma_2018A\n",
      "EGamma_2018B\n",
      "EGamma_2018C\n",
      "EGamma_2018D\n",
      "GJets_HT100To200\n",
      "GJets_HT200To400\n",
      "GJets_HT400To600\n",
      "GJets_HT40To100\n",
      "GJets_HT600ToInf\n",
      "QCD_pT30To40\n",
      "QCD_pT40ToInf\n",
      "signal\n",
      "ttbar\n",
      "WG\n",
      "ZG\n",
      "ZH\n"
     ]
    }
   ],
   "source": [
    "%%bash\n",
    "ls hists/basic/dipho/"
   ]
  },
  {
   "cell_type": "code",
   "execution_count": 20,
   "metadata": {},
   "outputs": [
    {
     "data": {
      "text/plain": [
       "{'DYJets': 5941.0,\n",
       " 'ttbar': 831.76,\n",
       " 'ZG': 55.6,\n",
       " 'WG': 191.4,\n",
       " 'GJets_HT40To100': 23100.0,\n",
       " 'GJets_HT100To200': 8631.0,\n",
       " 'GJets_HT200To400': 2280.0,\n",
       " 'GJets_HT400To600': 273.0,\n",
       " 'GJets_HT600ToInf': 94.5,\n",
       " 'QCD_pT30To40': 24810.0,\n",
       " 'QCD_pT40ToInf': 113400.0,\n",
       " 'Diphoton': 84.4,\n",
       " 'ZH': 0.002006453,\n",
       " 'signal': 0.0098}"
      ]
     },
     "execution_count": 20,
     "metadata": {},
     "output_type": "execute_result"
    }
   ],
   "source": [
    "with open(\"./metadata/xsection.json\", \"r\") as f:\n",
    "    xs = json.load(f)\n",
    "xs"
   ]
  },
  {
   "cell_type": "code",
   "execution_count": 21,
   "metadata": {},
   "outputs": [
    {
     "data": {
      "text/plain": [
       "{'DYJets': 17799598587.564648,\n",
       " 'ttbar': 284532045536.7458,\n",
       " 'ZG': 1514115614.2427294,\n",
       " 'WG': 6107452.571461948,\n",
       " 'GJets_HT40To100': 9370096.751511302,\n",
       " 'GJets_HT100To200': 9795369.458845828,\n",
       " 'GJets_HT200To400': 19051574.496664558,\n",
       " 'GJets_HT400To600': 4650962.691182764,\n",
       " 'GJets_HT600ToInf': 4970069.563275842,\n",
       " 'QCD_pT30To40': 14526026.0,\n",
       " 'QCD_pT40ToInf': 20622034.0,\n",
       " 'Diphoton': 6423331.3,\n",
       " 'ZH': 1740.8696149528298,\n",
       " 'signal': 997898.0}"
      ]
     },
     "execution_count": 21,
     "metadata": {},
     "output_type": "execute_result"
    }
   ],
   "source": [
    "with open(\"./metadata/totalWeights.json\", \"r\") as f:\n",
    "    tot_weights = json.load(f)\n",
    "tot_weights"
   ]
  },
  {
   "cell_type": "markdown",
   "metadata": {},
   "source": [
    "## for each category (e.g. 1lep_1tau) assemble hists from different processes (e.g. signal, diphoton, data...) "
   ]
  },
  {
   "cell_type": "code",
   "execution_count": 22,
   "metadata": {},
   "outputs": [
    {
     "data": {
      "text/plain": [
       "['dipho', '0lep_1tau', '0lep_2tau', '1lep_1tau', '2lep_0tau', '1lep_0tau']"
      ]
     },
     "execution_count": 22,
     "metadata": {},
     "output_type": "execute_result"
    }
   ],
   "source": [
    "#tag = \"basic\"\n",
    "tag = \"basic_dR_mll_cut\"\n",
    "from glob import glob\n",
    "\n",
    "cat_keys = glob(\"./hists/\" + tag + \"/*\")\n",
    "cat_keys = [cat_keys[i].split(\"/\")[-1] for i in range(len(cat_keys))]\n",
    "cat_keys"
   ]
  },
  {
   "cell_type": "code",
   "execution_count": 23,
   "metadata": {},
   "outputs": [
    {
     "data": {
      "text/plain": [
       "['EGamma_2018A',\n",
       " 'EGamma_2018B',\n",
       " 'EGamma_2018C',\n",
       " 'EGamma_2018D',\n",
       " 'DYJets',\n",
       " 'ttbar',\n",
       " 'ZG',\n",
       " 'WG',\n",
       " 'GJets_HT40To100',\n",
       " 'GJets_HT100To200',\n",
       " 'GJets_HT200To400',\n",
       " 'GJets_HT400To600',\n",
       " 'GJets_HT600ToInf',\n",
       " 'QCD_pT30To40',\n",
       " 'QCD_pT40ToInf',\n",
       " 'Diphoton',\n",
       " 'ZH',\n",
       " 'signal']"
      ]
     },
     "execution_count": 23,
     "metadata": {},
     "output_type": "execute_result"
    }
   ],
   "source": [
    "process_keys = glob(\"./hists/\" + tag + \"/dipho/*\")\n",
    "process_keys = [process_keys[i].split(\"/\")[-1] for i in range(len(process_keys))]\n",
    "process_keys"
   ]
  },
  {
   "cell_type": "code",
   "execution_count": 24,
   "metadata": {},
   "outputs": [
    {
     "data": {
      "text/plain": [
       "['pho_pT1.json',\n",
       " 'pho_pT2.json',\n",
       " 'pho_pTom1.json',\n",
       " 'pho_pTom2.json',\n",
       " 'pho_eta1.json',\n",
       " 'pho_eta2.json',\n",
       " 'pho_phi1.json',\n",
       " 'pho_phi2.json',\n",
       " 'pho_id1.json',\n",
       " 'pho_id2.json',\n",
       " 'muon_pT1.json',\n",
       " 'muon_eta1.json',\n",
       " 'muon_phi1.json',\n",
       " 'muon_iso1.json',\n",
       " 'n_muon.json',\n",
       " 'electron_pT1.json',\n",
       " 'electron_eta1.json',\n",
       " 'electron_phi1.json',\n",
       " 'electron_iso1.json',\n",
       " 'n_electron.json',\n",
       " 'lepton_pT1.json',\n",
       " 'lepton_eta1.json',\n",
       " 'lepton_phi1.json',\n",
       " 'lepton_iso1.json',\n",
       " 'n_lepton.json']"
      ]
     },
     "execution_count": 24,
     "metadata": {},
     "output_type": "execute_result"
    }
   ],
   "source": [
    "hist_keys = glob(\"./hists/\" + tag + \"/1lep_0tau/signal/*json\")\n",
    "hist_keys = [hist_keys[i].split(\"/\")[-1] for i in range(len(hist_keys))]\n",
    "hist_keys"
   ]
  },
  {
   "cell_type": "markdown",
   "metadata": {},
   "source": [
    "## merge muon and electron into lep"
   ]
  },
  {
   "cell_type": "code",
   "execution_count": 25,
   "metadata": {},
   "outputs": [
    {
     "name": "stdout",
     "output_type": "stream",
     "text": [
      "dR_tau_e\n",
      "dR_tau_e.json\n",
      "dR_tau_lep.json\n",
      "dR_tau_mu\n",
      "dR_tau_mu.json\n",
      "electron_eta1\n",
      "electron_eta1.json\n",
      "electron_iso1\n",
      "electron_iso1.json\n",
      "electron_phi1\n",
      "electron_phi1.json\n",
      "electron_pT1\n",
      "electron_pT1.json\n",
      "lepton_eta1.json\n",
      "lepton_iso1.json\n",
      "lepton_phi1.json\n",
      "lepton_pT1.json\n",
      "mtaue\n",
      "mtaue.json\n",
      "mtaulep.json\n",
      "mtaumu\n",
      "mtaumu.json\n",
      "muon_eta1\n",
      "muon_eta1.json\n",
      "muon_iso1\n",
      "muon_iso1.json\n",
      "muon_phi1\n",
      "muon_phi1.json\n",
      "muon_pT1\n",
      "muon_pT1.json\n",
      "n_electron\n",
      "n_electron.json\n",
      "n_lepton.json\n",
      "n_muon\n",
      "n_muon.json\n",
      "n_tau\n",
      "n_tau.json\n",
      "pho_eta1\n",
      "pho_eta1.json\n",
      "pho_eta2\n",
      "pho_eta2.json\n",
      "pho_id1\n",
      "pho_id1.json\n",
      "pho_id2\n",
      "pho_id2.json\n",
      "pho_phi1\n",
      "pho_phi1.json\n",
      "pho_phi2\n",
      "pho_phi2.json\n",
      "pho_pT1\n",
      "pho_pT1.json\n",
      "pho_pT2\n",
      "pho_pT2.json\n",
      "pho_pTom1\n",
      "pho_pTom1.json\n",
      "pho_pTom2\n",
      "pho_pTom2.json\n",
      "tau_deeptau_vs_e_1\n",
      "tau_deeptau_vs_e_1.json\n",
      "tau_deeptau_vs_j_1\n",
      "tau_deeptau_vs_j_1.json\n",
      "tau_deeptau_vs_m_1\n",
      "tau_deeptau_vs_m_1.json\n",
      "tau_eta1\n",
      "tau_eta1.json\n",
      "tau_phi1\n",
      "tau_phi1.json\n",
      "tau_pT1\n",
      "tau_pT1.json\n"
     ]
    }
   ],
   "source": [
    "%%bash\n",
    "ls ./hists/basic/1lep_1tau/signal/"
   ]
  },
  {
   "cell_type": "code",
   "execution_count": 26,
   "metadata": {},
   "outputs": [],
   "source": [
    "import os\n",
    "def merge_lep(tag, cat):\n",
    "    ## 0tau_1lep\n",
    "    hists_to_merge = [\"muon_pT1\", \"muon_eta1\", \"muon_phi1\", \"muon_iso1\", \"n_muon\"]\n",
    "    for name in hists_to_merge:\n",
    "        process_names = glob(\"./hists/\" + tag + \"/\" + cat + \"/*\")\n",
    "        process_names = [process_names[i].split(\"/\")[-1] for i in range(len(process_names))]\n",
    "        \n",
    "        #hists_merged = {}\n",
    "        for process in process_names:\n",
    "            histname = \"./hists/\" + tag + \"/\" + cat + \"/\" + process + \"/\" + name + \".json\"\n",
    "            if not os.path.isfile(histname): continue\n",
    "            if not os.path.isfile(histname.replace(\"muon\", \"electron\")): continue\n",
    "            hist_muon = Hist1D.from_json(histname)\n",
    "            hist_ele = Hist1D.from_json(histname.replace(\"muon\", \"electron\")) \n",
    "            \n",
    "            hist_lep = hist_muon + hist_ele\n",
    "            hist_lep.to_json(histname.replace(\"muon\", \"lepton\"))\n",
    "    \n",
    "    ## 1tau_1lep\n",
    "merge_lep(\"basic_dR_mll_cut\", \"1lep_0tau\")\n",
    "merge_lep(\"basic_dR_mll_cut\", \"1lep_1tau\")\n",
    "\n",
    "tag = \"basic_dR_mll_cut\"\n",
    "for process in process_keys:\n",
    "    h_dR_name_e = \"./hists/\" + tag + \"/1lep_1tau/\" + process + \"/dR_tau_e.json\"\n",
    "    h_dR_name_mu = \"./hists/\" + tag + \"/1lep_1tau/\" + process + \"/dR_tau_mu.json\"\n",
    "    h_m_name_e = \"./hists/\" + tag + \"/1lep_1tau/\" + process + \"/mtaue.json\"\n",
    "    h_m_name_mu = \"./hists/\" + tag + \"/1lep_1tau/\" + process + \"/mtaumu.json\"\n",
    "    \n",
    "    if not os.path.isfile(h_dR_name_e): continue\n",
    "    if not os.path.isfile(h_dR_name_mu): continue\n",
    "    if not os.path.isfile(h_m_name_e): continue\n",
    "    if not os.path.isfile(h_m_name_mu): continue\n",
    "        \n",
    "    dR_tau_e = Hist1D.from_json(h_dR_name_e)\n",
    "    dR_tau_mu = Hist1D.from_json(h_dR_name_mu)\n",
    "    dR_tau_lep = dR_tau_e + dR_tau_mu\n",
    "    \n",
    "    mtaue = Hist1D.from_json(h_m_name_e)\n",
    "    mtaumu = Hist1D.from_json(h_m_name_mu)\n",
    "    mtaulep = mtaue + mtaumu\n",
    "    \n",
    "    dR_tau_lep.to_json(h_dR_name_e.replace(\"tau_e\", \"tau_lep\"))\n",
    "    mtaulep.to_json(h_m_name_e.replace(\"taue\", \"taulep\"))\n"
   ]
  },
  {
   "cell_type": "code",
   "execution_count": 27,
   "metadata": {},
   "outputs": [],
   "source": [
    "xlabel = {\n",
    "    \"pho_pT1\": \"$p_T^{\\gamma 1} (GeV)$\",\n",
    "    \"pho_pT2\": \"$p_T^{\\gamma 2} (GeV)$\",\n",
    "    \"pho_pTom1\": \"$(p_T/m_{\\gamma\\gamma})^{\\gamma 1} (GeV)$\",\n",
    "    \"pho_pTom2\": \"$(p_T/m_{\\gamma\\gamma})^{\\gamma 2} (GeV)$\",\n",
    "    \"pho_eta1\": \"$\\eta^{\\gamma 1}$\",\n",
    "    \"pho_eta2\": \"$\\eta^{\\gamma 2}$\",\n",
    "    \"pho_phi1\": \"$\\phi^{\\gamma 1}$\",\n",
    "    \"pho_phi2\": \"$\\phi^{\\gamma 2}$\",\n",
    "    \"pho_id1\": \"$ID^{\\gamma 1}$\",\n",
    "    \"pho_id2\": \"$ID^{\\gamma 2}$\",\n",
    "    \"tau_pT1\": \"$p_T^{tau 1} (GeV)$\",\n",
    "    \"tau_pT2\": \"$p_T^{tau 2} (GeV)$\",\n",
    "    \"tau_eta1\": \"$\\eta^{tau 1}$\",\n",
    "    \"tau_eta2\": \"$\\eta^{tau 2}$\",\n",
    "    \"tau_phi1\": \"$\\phi^{tau 1}$\",\n",
    "    \"tau_phi2\": \"$\\phi^{tau 2}$\",\n",
    "    \"tau_deeptau_vs_j_1\": \"deepTau vs $j^{tau 1}$\",\n",
    "    \"tau_deeptau_vs_j_2\": \"deepTau vs $j^{tau 2}$\",\n",
    "    \"tau_deeptau_vs_m_1\": \"deepTau vs $m^{tau 1}$\",\n",
    "    \"tau_deeptau_vs_m_2\": \"deepTau vs $m^{tau 2}$\",\n",
    "    \"tau_deeptau_vs_e_1\": \"deepTau vs $e^{tau 1}$\",\n",
    "    \"tau_deeptau_vs_e_2\": \"deepTau vs $e^{tau 2}$\",\n",
    "    \"electron_pT1\": \"$p_T^{electron 1} (GeV)$\",\n",
    "    \"electron_pT2\": \"$p_T^{electron 2} (GeV)$\",\n",
    "    \"electron_eta1\": \"$\\eta^{electron 1}$\",\n",
    "    \"electron_eta2\": \"$\\eta^{electron 2}$\",\n",
    "    \"electron_phi1\": \"$\\phi^{electron 1}$\",\n",
    "    \"electron_phi2\": \"$\\phi^{electron 2}$\",\n",
    "    \"electron_iso1\": \"$iso^{electron 1}$\",\n",
    "    \"electron_iso2\": \"$iso^{electron 2}$\",\n",
    "    \"muon_pT1\": \"$p_T^{\\mu 1} (GeV)$\",\n",
    "    \"muon_pT2\": \"$p_T^{\\mu 2} (GeV)$\",\n",
    "    \"muon_eta1\": \"$\\eta^{\\mu 1}$\",\n",
    "    \"muon_eta2\": \"$\\eta^{\\mu 2}$\",\n",
    "    \"muon_phi1\": \"$\\phi^{\\mu 1}$\",\n",
    "    \"muon_phi2\": \"$\\phi^{\\mu 2}$\",\n",
    "    \"muon_iso1\": \"$iso^{\\mu 1}$\",\n",
    "    \"muon_iso2\": \"$iso^{\\mu 2}$\",\n",
    "    \"lepton_pT1\": \"$p_T^{lepton 1} (GeV)$\",\n",
    "    \"lepton_pT2\": \"$p_T^{lepton 2} (GeV)$\",\n",
    "    \"lepton_eta1\": \"$\\eta^{lepton 1}$\",\n",
    "    \"lepton_eta2\": \"$\\eta^{lepton 2}$\",\n",
    "    \"lepton_phi1\": \"$\\phi^{lepton 1}$\",\n",
    "    \"lepton_phi2\": \"$\\phi^{lepton 2}$\",\n",
    "    \"lepton_iso1\": \"$iso^{lepton 1}$\",\n",
    "    \"lepton_iso2\": \"$iso^{lepton 2}$\",\n",
    "    \"n_tau\": \"$n_{tau}$\",\n",
    "    \"n_muon\": \"$n_{\\mu}$\",\n",
    "    \"n_electron\": \"$n_{electron}$\",\n",
    "    \"n_lepton\": \"$n_{lepton}$\",\n",
    "    \"dR_tau_e\": \"$dR(tau,e)$\",\n",
    "    \"dR_tau_mu\": \"$dR(tau,\\mu)$\",\n",
    "    \"dR_tau_lep\": \"$dR(tau,lepton)$\",\n",
    "    \"dR_tautau\": \"$dR(tau,tau)$\",\n",
    "    \"dR_ee\": \"$dR(e,e)$\",\n",
    "    \"dR_mumu\": \"$dR(\\mu,\\mu)$\",\n",
    "    \"mtaue\": \"$m_{tau e}$ (GeV)\",\n",
    "    \"mtaumu\": \"$m_{tau \\mu} (GeV)$\",\n",
    "    \"mee\": \"$m_{ee} (GeV)$\",\n",
    "    \"mmumu\": \"$m_{\\mu\\mu} (GeV)$\",\n",
    "    \"mtaulep\": \"$m_{tau lep} (GeV)$\",\n",
    "    \"mtautau\": \"$m_{tau tau} (GeV)$\"\n",
    "}"
   ]
  },
  {
   "cell_type": "code",
   "execution_count": 28,
   "metadata": {},
   "outputs": [],
   "source": [
    "colors = {\n",
    "    \n",
    "    \"ZG\": \"#E4892F\" ,\n",
    "    \"QCD\": \"#5757E6\",\n",
    "    \"GJets\": \"#57E661\",\n",
    "    \"ttbar\": \"#6F57E6\",\n",
    "    \"Diphoton\":\"#E6576F\" ,\n",
    "    \"WG\": \"#9A57E6\"\n",
    "}"
   ]
  },
  {
   "cell_type": "code",
   "execution_count": 29,
   "metadata": {},
   "outputs": [],
   "source": [
    "from glob import glob\n",
    "import os.path\n",
    "from subprocess import call\n",
    "\n",
    "lumi = 59.0\n",
    "\n",
    "def get_data_mc_plot(tag, cat, hist_name, savetag):\n",
    "    # deal with one data/MC plot (e.g. photon pT) for one process (e.g. 1lep_1tau)\n",
    "    process_names = glob(\"./hists/\" + tag + \"/\" + cat + \"/*\")\n",
    "    process_names = [process_names[i].split(\"/\")[-1] for i in range(len(process_names))]\n",
    "    \n",
    "    hists = {}\n",
    "    norms = {}\n",
    "    norm_errors = {}\n",
    "    ## gather all hists from different processes\n",
    "    for process in process_names:\n",
    "        #if \"DY\" or \"WG\" in process: continue\n",
    "        hist = \"./hists/\" + tag + \"/\" + cat + \"/\" + process + \"/\" + hist_name\n",
    "        if not os.path.isfile(hist): continue\n",
    "        hists[process] = Hist1D.from_json(hist)\n",
    "        if \"EGamma\" not in process:\n",
    "            hists[process] = hists[process]/tot_weights[process]*lumi*1000*xs[process]\n",
    "            hists[process].metadata[\"label\"] = process\n",
    "    \n",
    "    # data\n",
    "    hist_data = np.sum( [hists[key] for key in hists.keys() if \"EGamma\" in key] )\n",
    "    norms[\"data\"] = hist_data.integral\n",
    "    norm_errors[\"data\"] = hist_data.integral_error\n",
    "    hist_MC = [] #[hist_GJets, hist_QCD]\n",
    "    \n",
    "    # GJets\n",
    "    hist_GJets = np.sum( [hists[key] for key in hists.keys() if \"GJet\" in key] )\n",
    "    if type(hist_GJets) == Hist1D:\n",
    "        hist_GJets.metadata[\"label\"] = \"GJets\"\n",
    "        hist_GJets.metadata[\"color\"] = colors[\"GJets\"]\n",
    "        if cat != \"0lep_2tau\":\n",
    "            hist_MC.append(hist_GJets)\n",
    "        norms[\"GJet\"] = hist_GJets.integral\n",
    "        norm_errors[\"GJet\"] = hist_GJets.integral_error\n",
    "        \n",
    "    # QCD\n",
    "    hist_QCD = np.sum( [hists[key] for key in hists.keys() if \"QCD\" in key] )\n",
    "    if type(hist_QCD) == Hist1D:\n",
    "        hist_QCD.metadata[\"label\"] = \"QCD\"\n",
    "        hist_QCD.metadata[\"color\"] = colors[\"QCD\"]\n",
    "        hist_MC.append(hist_QCD)\n",
    "        norms[\"QCD\"] = hist_QCD.integral\n",
    "        norm_errors[\"QCD\"] = hist_QCD.integral_error\n",
    "        \n",
    "    # other MC\n",
    "    others_blacklist = [\"EGamma\", \"GJet\", \"QCD\", \"signal\", \"ZH\", \"DYJets\"]\n",
    "    for key in hists.keys():\n",
    "        skip = False\n",
    "        for forbid_key in others_blacklist:\n",
    "            if forbid_key in key:\n",
    "                skip = True\n",
    "                break\n",
    "        if skip: continue\n",
    "        hist_MC.append(hists[key])\n",
    "        hists[key].metadata[\"color\"] = colors[key]\n",
    "        norms[key] = hists[key].integral\n",
    "        norm_errors[key] = hists[key].integral_error\n",
    "        \n",
    "    # sum all bkg, for ratio plot\n",
    "    hist_bkg = np.sum(hist_MC)\n",
    "    norms[\"bkg\"] = hist_bkg.integral\n",
    "    norm_errors[\"bkg\"] = hist_bkg.integral_error\n",
    "    \n",
    "    fig,(ax1,ax2) = plt.subplots(2,sharex=True,figsize=(12,9),gridspec_kw=dict(height_ratios=[3, 1]))\n",
    "    hist_data.plot(ax=ax1,histtype=\"step\", label=\"data\", show_errors=True, color=\"black\")\n",
    "    hists[\"signal\"].plot(ax=ax1,histtype=\"step\", fill = False, label=\"signal\", color=\"red\")\n",
    "    norms[\"signal\"] = hists[\"signal\"].integral\n",
    "    norm_errors[\"signal\"] = hists[\"signal\"].integral_error\n",
    "    plot_stack(hist_MC,ax=ax1)\n",
    "    ax1.set_ylim(0)\n",
    "    \n",
    "    (hist_data/hist_bkg).plot(ax=ax2,show_errors=True,label=\"data/MC\")\n",
    "    ax2.set_ylim(0.5,1.5)\n",
    "    \n",
    "    # guided horizontal line\n",
    "    xmin, xmax = ax1.get_xlim()\n",
    "    ax2.hlines(y=1, xmin = xmin, xmax = xmax, linewidth=2, color='r')\n",
    "    \n",
    "    from datetime import date\n",
    "    today = date.today()\n",
    "    basepath = \"/home/users/hmei/public_html/2021/\" + str(today) + \"_\" + savetag + \"/\"\n",
    "    savepath = basepath + cat + \"/\" \n",
    "    call(\"mkdir -p \" + savepath, shell=True)\n",
    "    call(\"cp /home/users/hmei/public_html/scratch/index.php \" + savepath, shell=True)\n",
    "    ax2.set_xlabel(xlabel[hist_name.split('.')[0]])\n",
    "    \n",
    "    save_name = hist_name.split(\".\")[0]\n",
    "    plt.savefig(savepath + save_name + \".pdf\")\n",
    "    plt.savefig(savepath + save_name + \".png\")\n",
    "    plt.close()\n",
    "    \n",
    "    with open(savepath + save_name + \"_norm.json\", \"w\") as f:\n",
    "        data = json.dump(norms, f)\n",
    "    with open(savepath + save_name + \"_normerror.json\", \"w\") as f:\n",
    "        data = json.dump(norm_errors, f)\n",
    "    #return norms, norm_errors\n",
    "    \n",
    "#get_data_mc_plot('basic', '1lep_1tau', 'mtaulep.json', 'test')"
   ]
  },
  {
   "cell_type": "code",
   "execution_count": 30,
   "metadata": {},
   "outputs": [
    {
     "name": "stdout",
     "output_type": "stream",
     "text": [
      "total 24K\n",
      "drwxr-xr-x+ 8 hmei hmei 4.0K Jan 18 15:38 2021-01-18_test\n",
      "drwxr-xr-x+ 8 hmei hmei 4.0K Jan 19 03:16 2021-01-19_test\n",
      "drwxr-xr-x+ 8 hmei hmei 4.0K Jan 21 02:48 2021-01-21_test\n"
     ]
    }
   ],
   "source": [
    "%%bash\n",
    "chmod -R 755 /home/users/hmei/public_html/2021/\n",
    "ls -lrht /home/users/hmei/public_html/2021/ | tail -n 4"
   ]
  },
  {
   "cell_type": "code",
   "execution_count": 31,
   "metadata": {},
   "outputs": [
    {
     "name": "stdout",
     "output_type": "stream",
     "text": [
      "dipho 21/01/2021 08:30:51\n"
     ]
    },
    {
     "name": "stderr",
     "output_type": "stream",
     "text": [
      "'texgyreheros-regular.otf' can not be subsetted into a Type 3 font. The entire font will be embedded in the output.\n",
      "'texgyreheros-regular.otf' can not be subsetted into a Type 3 font. The entire font will be embedded in the output.\n",
      "'texgyreheros-regular.otf' can not be subsetted into a Type 3 font. The entire font will be embedded in the output.\n",
      "'texgyreheros-regular.otf' can not be subsetted into a Type 3 font. The entire font will be embedded in the output.\n",
      "'texgyreheros-regular.otf' can not be subsetted into a Type 3 font. The entire font will be embedded in the output.\n",
      "'texgyreheros-regular.otf' can not be subsetted into a Type 3 font. The entire font will be embedded in the output.\n",
      "'texgyreheros-regular.otf' can not be subsetted into a Type 3 font. The entire font will be embedded in the output.\n",
      "'texgyreheros-regular.otf' can not be subsetted into a Type 3 font. The entire font will be embedded in the output.\n",
      "'texgyreheros-regular.otf' can not be subsetted into a Type 3 font. The entire font will be embedded in the output.\n",
      "'texgyreheros-regular.otf' can not be subsetted into a Type 3 font. The entire font will be embedded in the output.\n",
      "'texgyreheros-regular.otf' can not be subsetted into a Type 3 font. The entire font will be embedded in the output.\n",
      "'texgyreheros-regular.otf' can not be subsetted into a Type 3 font. The entire font will be embedded in the output.\n",
      "'texgyreheros-regular.otf' can not be subsetted into a Type 3 font. The entire font will be embedded in the output.\n",
      "'texgyreheros-regular.otf' can not be subsetted into a Type 3 font. The entire font will be embedded in the output.\n",
      "'texgyreheros-regular.otf' can not be subsetted into a Type 3 font. The entire font will be embedded in the output.\n",
      "'texgyreheros-regular.otf' can not be subsetted into a Type 3 font. The entire font will be embedded in the output.\n",
      "'texgyreheros-regular.otf' can not be subsetted into a Type 3 font. The entire font will be embedded in the output.\n",
      "'texgyreheros-regular.otf' can not be subsetted into a Type 3 font. The entire font will be embedded in the output.\n",
      "'texgyreheros-regular.otf' can not be subsetted into a Type 3 font. The entire font will be embedded in the output.\n",
      "'texgyreheros-regular.otf' can not be subsetted into a Type 3 font. The entire font will be embedded in the output.\n",
      "'texgyreheros-regular.otf' can not be subsetted into a Type 3 font. The entire font will be embedded in the output.\n",
      "'texgyreheros-regular.otf' can not be subsetted into a Type 3 font. The entire font will be embedded in the output.\n",
      "'texgyreheros-regular.otf' can not be subsetted into a Type 3 font. The entire font will be embedded in the output.\n",
      "'texgyreheros-regular.otf' can not be subsetted into a Type 3 font. The entire font will be embedded in the output.\n",
      "'texgyreheros-regular.otf' can not be subsetted into a Type 3 font. The entire font will be embedded in the output.\n",
      "'texgyreheros-regular.otf' can not be subsetted into a Type 3 font. The entire font will be embedded in the output.\n",
      "'texgyreheros-regular.otf' can not be subsetted into a Type 3 font. The entire font will be embedded in the output.\n",
      "'texgyreheros-regular.otf' can not be subsetted into a Type 3 font. The entire font will be embedded in the output.\n",
      "'texgyreheros-regular.otf' can not be subsetted into a Type 3 font. The entire font will be embedded in the output.\n",
      "'texgyreheros-regular.otf' can not be subsetted into a Type 3 font. The entire font will be embedded in the output.\n",
      "'texgyreheros-regular.otf' can not be subsetted into a Type 3 font. The entire font will be embedded in the output.\n",
      "'texgyreheros-regular.otf' can not be subsetted into a Type 3 font. The entire font will be embedded in the output.\n",
      "'texgyreheros-regular.otf' can not be subsetted into a Type 3 font. The entire font will be embedded in the output.\n",
      "'texgyreheros-regular.otf' can not be subsetted into a Type 3 font. The entire font will be embedded in the output.\n",
      "'texgyreheros-regular.otf' can not be subsetted into a Type 3 font. The entire font will be embedded in the output.\n",
      "'texgyreheros-regular.otf' can not be subsetted into a Type 3 font. The entire font will be embedded in the output.\n",
      "'texgyreheros-regular.otf' can not be subsetted into a Type 3 font. The entire font will be embedded in the output.\n",
      "'texgyreheros-regular.otf' can not be subsetted into a Type 3 font. The entire font will be embedded in the output.\n",
      "'texgyreheros-regular.otf' can not be subsetted into a Type 3 font. The entire font will be embedded in the output.\n",
      "'texgyreheros-regular.otf' can not be subsetted into a Type 3 font. The entire font will be embedded in the output.\n",
      "'texgyreheros-regular.otf' can not be subsetted into a Type 3 font. The entire font will be embedded in the output.\n",
      "'texgyreheros-regular.otf' can not be subsetted into a Type 3 font. The entire font will be embedded in the output.\n",
      "'texgyreheros-regular.otf' can not be subsetted into a Type 3 font. The entire font will be embedded in the output.\n",
      "'texgyreheros-regular.otf' can not be subsetted into a Type 3 font. The entire font will be embedded in the output.\n",
      "'texgyreheros-regular.otf' can not be subsetted into a Type 3 font. The entire font will be embedded in the output.\n",
      "'texgyreheros-regular.otf' can not be subsetted into a Type 3 font. The entire font will be embedded in the output.\n",
      "'texgyreheros-regular.otf' can not be subsetted into a Type 3 font. The entire font will be embedded in the output.\n"
     ]
    },
    {
     "name": "stdout",
     "output_type": "stream",
     "text": [
      "0lep_1tau 21/01/2021 08:32:05\n"
     ]
    },
    {
     "name": "stderr",
     "output_type": "stream",
     "text": [
      "'texgyreheros-regular.otf' can not be subsetted into a Type 3 font. The entire font will be embedded in the output.\n",
      "'texgyreheros-regular.otf' can not be subsetted into a Type 3 font. The entire font will be embedded in the output.\n",
      "'texgyreheros-regular.otf' can not be subsetted into a Type 3 font. The entire font will be embedded in the output.\n",
      "'texgyreheros-regular.otf' can not be subsetted into a Type 3 font. The entire font will be embedded in the output.\n",
      "'texgyreheros-regular.otf' can not be subsetted into a Type 3 font. The entire font will be embedded in the output.\n",
      "'texgyreheros-regular.otf' can not be subsetted into a Type 3 font. The entire font will be embedded in the output.\n",
      "'texgyreheros-regular.otf' can not be subsetted into a Type 3 font. The entire font will be embedded in the output.\n",
      "'texgyreheros-regular.otf' can not be subsetted into a Type 3 font. The entire font will be embedded in the output.\n",
      "'texgyreheros-regular.otf' can not be subsetted into a Type 3 font. The entire font will be embedded in the output.\n",
      "'texgyreheros-regular.otf' can not be subsetted into a Type 3 font. The entire font will be embedded in the output.\n",
      "'texgyreheros-regular.otf' can not be subsetted into a Type 3 font. The entire font will be embedded in the output.\n",
      "'texgyreheros-regular.otf' can not be subsetted into a Type 3 font. The entire font will be embedded in the output.\n",
      "'texgyreheros-regular.otf' can not be subsetted into a Type 3 font. The entire font will be embedded in the output.\n",
      "'texgyreheros-regular.otf' can not be subsetted into a Type 3 font. The entire font will be embedded in the output.\n",
      "'texgyreheros-regular.otf' can not be subsetted into a Type 3 font. The entire font will be embedded in the output.\n",
      "'texgyreheros-regular.otf' can not be subsetted into a Type 3 font. The entire font will be embedded in the output.\n",
      "'texgyreheros-regular.otf' can not be subsetted into a Type 3 font. The entire font will be embedded in the output.\n"
     ]
    },
    {
     "name": "stdout",
     "output_type": "stream",
     "text": [
      "0lep_2tau 21/01/2021 08:32:32\n"
     ]
    },
    {
     "name": "stderr",
     "output_type": "stream",
     "text": [
      "'texgyreheros-regular.otf' can not be subsetted into a Type 3 font. The entire font will be embedded in the output.\n",
      "'texgyreheros-regular.otf' can not be subsetted into a Type 3 font. The entire font will be embedded in the output.\n",
      "'texgyreheros-regular.otf' can not be subsetted into a Type 3 font. The entire font will be embedded in the output.\n",
      "'texgyreheros-regular.otf' can not be subsetted into a Type 3 font. The entire font will be embedded in the output.\n",
      "'texgyreheros-regular.otf' can not be subsetted into a Type 3 font. The entire font will be embedded in the output.\n",
      "'texgyreheros-regular.otf' can not be subsetted into a Type 3 font. The entire font will be embedded in the output.\n",
      "'texgyreheros-regular.otf' can not be subsetted into a Type 3 font. The entire font will be embedded in the output.\n",
      "'texgyreheros-regular.otf' can not be subsetted into a Type 3 font. The entire font will be embedded in the output.\n",
      "'texgyreheros-regular.otf' can not be subsetted into a Type 3 font. The entire font will be embedded in the output.\n",
      "'texgyreheros-regular.otf' can not be subsetted into a Type 3 font. The entire font will be embedded in the output.\n",
      "'texgyreheros-regular.otf' can not be subsetted into a Type 3 font. The entire font will be embedded in the output.\n",
      "'texgyreheros-regular.otf' can not be subsetted into a Type 3 font. The entire font will be embedded in the output.\n",
      "'texgyreheros-regular.otf' can not be subsetted into a Type 3 font. The entire font will be embedded in the output.\n",
      "'texgyreheros-regular.otf' can not be subsetted into a Type 3 font. The entire font will be embedded in the output.\n",
      "'texgyreheros-regular.otf' can not be subsetted into a Type 3 font. The entire font will be embedded in the output.\n",
      "'texgyreheros-regular.otf' can not be subsetted into a Type 3 font. The entire font will be embedded in the output.\n",
      "'texgyreheros-regular.otf' can not be subsetted into a Type 3 font. The entire font will be embedded in the output.\n",
      "'texgyreheros-regular.otf' can not be subsetted into a Type 3 font. The entire font will be embedded in the output.\n",
      "'texgyreheros-regular.otf' can not be subsetted into a Type 3 font. The entire font will be embedded in the output.\n",
      "'texgyreheros-regular.otf' can not be subsetted into a Type 3 font. The entire font will be embedded in the output.\n",
      "'texgyreheros-regular.otf' can not be subsetted into a Type 3 font. The entire font will be embedded in the output.\n",
      "'texgyreheros-regular.otf' can not be subsetted into a Type 3 font. The entire font will be embedded in the output.\n",
      "'texgyreheros-regular.otf' can not be subsetted into a Type 3 font. The entire font will be embedded in the output.\n",
      "'texgyreheros-regular.otf' can not be subsetted into a Type 3 font. The entire font will be embedded in the output.\n",
      "'texgyreheros-regular.otf' can not be subsetted into a Type 3 font. The entire font will be embedded in the output.\n"
     ]
    },
    {
     "name": "stdout",
     "output_type": "stream",
     "text": [
      "1lep_1tau 21/01/2021 08:33:07\n"
     ]
    },
    {
     "name": "stderr",
     "output_type": "stream",
     "text": [
      "'texgyreheros-regular.otf' can not be subsetted into a Type 3 font. The entire font will be embedded in the output.\n",
      "'texgyreheros-regular.otf' can not be subsetted into a Type 3 font. The entire font will be embedded in the output.\n",
      "'texgyreheros-regular.otf' can not be subsetted into a Type 3 font. The entire font will be embedded in the output.\n",
      "'texgyreheros-regular.otf' can not be subsetted into a Type 3 font. The entire font will be embedded in the output.\n",
      "'texgyreheros-regular.otf' can not be subsetted into a Type 3 font. The entire font will be embedded in the output.\n",
      "'texgyreheros-regular.otf' can not be subsetted into a Type 3 font. The entire font will be embedded in the output.\n",
      "'texgyreheros-regular.otf' can not be subsetted into a Type 3 font. The entire font will be embedded in the output.\n",
      "'texgyreheros-regular.otf' can not be subsetted into a Type 3 font. The entire font will be embedded in the output.\n",
      "'texgyreheros-regular.otf' can not be subsetted into a Type 3 font. The entire font will be embedded in the output.\n",
      "'texgyreheros-regular.otf' can not be subsetted into a Type 3 font. The entire font will be embedded in the output.\n",
      "'texgyreheros-regular.otf' can not be subsetted into a Type 3 font. The entire font will be embedded in the output.\n",
      "'texgyreheros-regular.otf' can not be subsetted into a Type 3 font. The entire font will be embedded in the output.\n",
      "'texgyreheros-regular.otf' can not be subsetted into a Type 3 font. The entire font will be embedded in the output.\n",
      "'texgyreheros-regular.otf' can not be subsetted into a Type 3 font. The entire font will be embedded in the output.\n",
      "'texgyreheros-regular.otf' can not be subsetted into a Type 3 font. The entire font will be embedded in the output.\n",
      "'texgyreheros-regular.otf' can not be subsetted into a Type 3 font. The entire font will be embedded in the output.\n",
      "'texgyreheros-regular.otf' can not be subsetted into a Type 3 font. The entire font will be embedded in the output.\n",
      "'texgyreheros-regular.otf' can not be subsetted into a Type 3 font. The entire font will be embedded in the output.\n",
      "'texgyreheros-regular.otf' can not be subsetted into a Type 3 font. The entire font will be embedded in the output.\n",
      "'texgyreheros-regular.otf' can not be subsetted into a Type 3 font. The entire font will be embedded in the output.\n",
      "'texgyreheros-regular.otf' can not be subsetted into a Type 3 font. The entire font will be embedded in the output.\n",
      "'texgyreheros-regular.otf' can not be subsetted into a Type 3 font. The entire font will be embedded in the output.\n",
      "'texgyreheros-regular.otf' can not be subsetted into a Type 3 font. The entire font will be embedded in the output.\n",
      "'texgyreheros-regular.otf' can not be subsetted into a Type 3 font. The entire font will be embedded in the output.\n",
      "'texgyreheros-regular.otf' can not be subsetted into a Type 3 font. The entire font will be embedded in the output.\n",
      "'texgyreheros-regular.otf' can not be subsetted into a Type 3 font. The entire font will be embedded in the output.\n",
      "'texgyreheros-regular.otf' can not be subsetted into a Type 3 font. The entire font will be embedded in the output.\n",
      "'texgyreheros-regular.otf' can not be subsetted into a Type 3 font. The entire font will be embedded in the output.\n",
      "'texgyreheros-regular.otf' can not be subsetted into a Type 3 font. The entire font will be embedded in the output.\n",
      "'texgyreheros-regular.otf' can not be subsetted into a Type 3 font. The entire font will be embedded in the output.\n",
      "'texgyreheros-regular.otf' can not be subsetted into a Type 3 font. The entire font will be embedded in the output.\n",
      "'texgyreheros-regular.otf' can not be subsetted into a Type 3 font. The entire font will be embedded in the output.\n",
      "'texgyreheros-regular.otf' can not be subsetted into a Type 3 font. The entire font will be embedded in the output.\n",
      "'texgyreheros-regular.otf' can not be subsetted into a Type 3 font. The entire font will be embedded in the output.\n",
      "'texgyreheros-regular.otf' can not be subsetted into a Type 3 font. The entire font will be embedded in the output.\n",
      "'texgyreheros-regular.otf' can not be subsetted into a Type 3 font. The entire font will be embedded in the output.\n",
      "'texgyreheros-regular.otf' can not be subsetted into a Type 3 font. The entire font will be embedded in the output.\n",
      "'texgyreheros-regular.otf' can not be subsetted into a Type 3 font. The entire font will be embedded in the output.\n"
     ]
    },
    {
     "name": "stdout",
     "output_type": "stream",
     "text": [
      "2lep_0tau 21/01/2021 08:34:04\n"
     ]
    },
    {
     "name": "stderr",
     "output_type": "stream",
     "text": [
      "'texgyreheros-regular.otf' can not be subsetted into a Type 3 font. The entire font will be embedded in the output.\n",
      "'texgyreheros-regular.otf' can not be subsetted into a Type 3 font. The entire font will be embedded in the output.\n",
      "'texgyreheros-regular.otf' can not be subsetted into a Type 3 font. The entire font will be embedded in the output.\n",
      "'texgyreheros-regular.otf' can not be subsetted into a Type 3 font. The entire font will be embedded in the output.\n",
      "'texgyreheros-regular.otf' can not be subsetted into a Type 3 font. The entire font will be embedded in the output.\n",
      "'texgyreheros-regular.otf' can not be subsetted into a Type 3 font. The entire font will be embedded in the output.\n",
      "'texgyreheros-regular.otf' can not be subsetted into a Type 3 font. The entire font will be embedded in the output.\n",
      "'texgyreheros-regular.otf' can not be subsetted into a Type 3 font. The entire font will be embedded in the output.\n",
      "'texgyreheros-regular.otf' can not be subsetted into a Type 3 font. The entire font will be embedded in the output.\n",
      "'texgyreheros-regular.otf' can not be subsetted into a Type 3 font. The entire font will be embedded in the output.\n",
      "'texgyreheros-regular.otf' can not be subsetted into a Type 3 font. The entire font will be embedded in the output.\n",
      "'texgyreheros-regular.otf' can not be subsetted into a Type 3 font. The entire font will be embedded in the output.\n",
      "'texgyreheros-regular.otf' can not be subsetted into a Type 3 font. The entire font will be embedded in the output.\n",
      "'texgyreheros-regular.otf' can not be subsetted into a Type 3 font. The entire font will be embedded in the output.\n",
      "'texgyreheros-regular.otf' can not be subsetted into a Type 3 font. The entire font will be embedded in the output.\n",
      "'texgyreheros-regular.otf' can not be subsetted into a Type 3 font. The entire font will be embedded in the output.\n",
      "'texgyreheros-regular.otf' can not be subsetted into a Type 3 font. The entire font will be embedded in the output.\n",
      "'texgyreheros-regular.otf' can not be subsetted into a Type 3 font. The entire font will be embedded in the output.\n",
      "'texgyreheros-regular.otf' can not be subsetted into a Type 3 font. The entire font will be embedded in the output.\n",
      "'texgyreheros-regular.otf' can not be subsetted into a Type 3 font. The entire font will be embedded in the output.\n",
      "'texgyreheros-regular.otf' can not be subsetted into a Type 3 font. The entire font will be embedded in the output.\n",
      "'texgyreheros-regular.otf' can not be subsetted into a Type 3 font. The entire font will be embedded in the output.\n",
      "'texgyreheros-regular.otf' can not be subsetted into a Type 3 font. The entire font will be embedded in the output.\n",
      "'texgyreheros-regular.otf' can not be subsetted into a Type 3 font. The entire font will be embedded in the output.\n",
      "'texgyreheros-regular.otf' can not be subsetted into a Type 3 font. The entire font will be embedded in the output.\n",
      "'texgyreheros-regular.otf' can not be subsetted into a Type 3 font. The entire font will be embedded in the output.\n",
      "'texgyreheros-regular.otf' can not be subsetted into a Type 3 font. The entire font will be embedded in the output.\n",
      "'texgyreheros-regular.otf' can not be subsetted into a Type 3 font. The entire font will be embedded in the output.\n",
      "'texgyreheros-regular.otf' can not be subsetted into a Type 3 font. The entire font will be embedded in the output.\n",
      "'texgyreheros-regular.otf' can not be subsetted into a Type 3 font. The entire font will be embedded in the output.\n",
      "'texgyreheros-regular.otf' can not be subsetted into a Type 3 font. The entire font will be embedded in the output.\n",
      "'texgyreheros-regular.otf' can not be subsetted into a Type 3 font. The entire font will be embedded in the output.\n"
     ]
    },
    {
     "name": "stdout",
     "output_type": "stream",
     "text": [
      "1lep_0tau 21/01/2021 08:34:52\n"
     ]
    },
    {
     "name": "stderr",
     "output_type": "stream",
     "text": [
      "'texgyreheros-regular.otf' can not be subsetted into a Type 3 font. The entire font will be embedded in the output.\n",
      "'texgyreheros-regular.otf' can not be subsetted into a Type 3 font. The entire font will be embedded in the output.\n",
      "'texgyreheros-regular.otf' can not be subsetted into a Type 3 font. The entire font will be embedded in the output.\n",
      "'texgyreheros-regular.otf' can not be subsetted into a Type 3 font. The entire font will be embedded in the output.\n",
      "'texgyreheros-regular.otf' can not be subsetted into a Type 3 font. The entire font will be embedded in the output.\n",
      "'texgyreheros-regular.otf' can not be subsetted into a Type 3 font. The entire font will be embedded in the output.\n",
      "'texgyreheros-regular.otf' can not be subsetted into a Type 3 font. The entire font will be embedded in the output.\n",
      "'texgyreheros-regular.otf' can not be subsetted into a Type 3 font. The entire font will be embedded in the output.\n",
      "'texgyreheros-regular.otf' can not be subsetted into a Type 3 font. The entire font will be embedded in the output.\n",
      "'texgyreheros-regular.otf' can not be subsetted into a Type 3 font. The entire font will be embedded in the output.\n",
      "'texgyreheros-regular.otf' can not be subsetted into a Type 3 font. The entire font will be embedded in the output.\n",
      "'texgyreheros-regular.otf' can not be subsetted into a Type 3 font. The entire font will be embedded in the output.\n",
      "'texgyreheros-regular.otf' can not be subsetted into a Type 3 font. The entire font will be embedded in the output.\n",
      "'texgyreheros-regular.otf' can not be subsetted into a Type 3 font. The entire font will be embedded in the output.\n",
      "'texgyreheros-regular.otf' can not be subsetted into a Type 3 font. The entire font will be embedded in the output.\n",
      "'texgyreheros-regular.otf' can not be subsetted into a Type 3 font. The entire font will be embedded in the output.\n",
      "'texgyreheros-regular.otf' can not be subsetted into a Type 3 font. The entire font will be embedded in the output.\n",
      "'texgyreheros-regular.otf' can not be subsetted into a Type 3 font. The entire font will be embedded in the output.\n",
      "'texgyreheros-regular.otf' can not be subsetted into a Type 3 font. The entire font will be embedded in the output.\n",
      "'texgyreheros-regular.otf' can not be subsetted into a Type 3 font. The entire font will be embedded in the output.\n",
      "'texgyreheros-regular.otf' can not be subsetted into a Type 3 font. The entire font will be embedded in the output.\n",
      "'texgyreheros-regular.otf' can not be subsetted into a Type 3 font. The entire font will be embedded in the output.\n",
      "'texgyreheros-regular.otf' can not be subsetted into a Type 3 font. The entire font will be embedded in the output.\n",
      "'texgyreheros-regular.otf' can not be subsetted into a Type 3 font. The entire font will be embedded in the output.\n",
      "'texgyreheros-regular.otf' can not be subsetted into a Type 3 font. The entire font will be embedded in the output.\n"
     ]
    },
    {
     "name": "stdout",
     "output_type": "stream",
     "text": [
      "CPU times: user 3min 53s, sys: 28.5 s, total: 4min 21s\n",
      "Wall time: 4min 39s\n"
     ]
    }
   ],
   "source": [
    "%%time\n",
    "def gather_hists(tag, savetag):\n",
    "    \n",
    "    from datetime import datetime\n",
    "    cat_keys = glob(\"./hists/\" + tag + \"/*\")\n",
    "    cat_keys = [cat_keys[i].split(\"/\")[-1] for i in range(len(cat_keys))]\n",
    "    \n",
    "    for cat in cat_keys:\n",
    "        now = datetime.now()\n",
    "        print (cat, now.strftime(\"%d/%m/%Y %H:%M:%S\"))\n",
    "        \n",
    "        hist_names = glob(\"./hists/\" + tag + \"/\" + cat + \"/signal/*json\")\n",
    "        hist_names = [hist_names[i].split(\"/\")[-1] for i in range(len(hist_names))]\n",
    "        \n",
    "        for hist_name in hist_names:\n",
    "            get_data_mc_plot(tag, cat, hist_name, savetag)\n",
    "\n",
    "#gather_hists('basic', 'test')\n",
    "gather_hists('basic_dR_mll_cut', 'test')"
   ]
  },
  {
   "cell_type": "code",
   "execution_count": 16,
   "metadata": {},
   "outputs": [
    {
     "name": "stdout",
     "output_type": "stream",
     "text": [
      "|-\n",
      "| | dipho|1lep_0tau|0lep_1tau|1lep_1tau|0lep_2tau|2lep_0tau\n",
      "|-\n",
      "|-\n",
      "| GJet | 1336682.45 $\\pm$ 11395.01|2941.66 $\\pm$ 475.38|19051.50 $\\pm$ 1214.49|0.00 $\\pm$ 0.00|6.99 $\\pm$ 6.99|65.31 $\\pm$ 52.39\n",
      "| QCD | 728856.95 $\\pm$ 15090.55|749.65 $\\pm$ 469.76|11333.25 $\\pm$ 1899.82|0.00 $\\pm$ 0.00|0.00 $\\pm$ 0.00|0.00 $\\pm$ 0.00\n",
      "| ttbar | 8602.45 $\\pm$ 147.41|1526.04 $\\pm$ 61.19|288.76 $\\pm$ 26.88|1.91 $\\pm$ 2.99|0.94 $\\pm$ 0.94|12.28 $\\pm$ 6.35\n",
      "| ZG | 17642.09 $\\pm$ 102.47|9015.91 $\\pm$ 73.49|616.76 $\\pm$ 19.10|17.39 $\\pm$ 3.08|6.28 $\\pm$ 2.06|246.22 $\\pm$ 12.02\n",
      "| WG | 6936.98 $\\pm$ 113.16|819.97 $\\pm$ 38.83|126.97 $\\pm$ 15.29|0.00 $\\pm$ 0.00|0.00 $\\pm$ 0.00|0.00 $\\pm$ 0.00\n",
      "| Diphoton | 249266.17 $\\pm$ 335.27|949.82 $\\pm$ 18.34|6306.63 $\\pm$ 44.21|1.47 $\\pm$ 0.39|8.30 $\\pm$ 1.53|15.81 $\\pm$ 1.98\n",
      "|-\n",
      "| bkg | 2347987.10 $\\pm$ 18913.71|16003.06 $\\pm$ 676.50|37723.87 $\\pm$ 2255.57|20.77 $\\pm$ 4.31|15.51 $\\pm$ 2.73|339.63 $\\pm$ 54.16\n",
      "| data | 3064836.00 $\\pm$ 1750.67|25040.00 $\\pm$ 158.24|39500.00 $\\pm$ 198.75|31.00 $\\pm$ 5.57|23.00 $\\pm$ 4.80|227.00 $\\pm$ 15.07\n",
      "|-\n",
      "| signal | 236.14 $\\pm$ 0.37|47.57 $\\pm$ 0.17|74.06 $\\pm$ 0.21|9.33 $\\pm$ 0.07|11.89 $\\pm$ 0.08|4.87 $\\pm$ 0.05\n",
      "|-\n"
     ]
    }
   ],
   "source": [
    "def make_table(yielddir, cat, histname):\n",
    "    norm_file = yielddir + cat + \"/\" + histname + \"_norm.json\"\n",
    "    normerror_file = yielddir + cat + \"/\" + histname + \"_normerror.json\"\n",
    "    \n",
    "    with open(norm_file, \"r\") as f:\n",
    "        norms = json.load(f)\n",
    "    with open(normerror_file, \"r\") as f:\n",
    "        normerrors = json.load(f)\n",
    "        \n",
    "    for key in norms.keys():\n",
    "        print (\"{}: {:.2f} \\pm {:.2f}\".format(key, norms[key], normerrors[key]))\n",
    "    \n",
    "def make_table_all(yielddir, histname):\n",
    "    cat_keys = [\"dipho\", \"1lep_0tau\", \"0lep_1tau\", \"1lep_1tau\", \"0lep_2tau\", \"2lep_0tau\"]\n",
    "    process_keys = [\"GJet\",\"QCD\",\"ttbar\",\"ZG\",\"WG\",\"Diphoton\",\"bkg\",\"data\",\"signal\"]\n",
    "    \n",
    "    norms_allcats = {}\n",
    "    normerrors_allcats = {}\n",
    "    for cat in cat_keys:\n",
    "        norm_file = yielddir + cat + \"/\" + histname + \"_norm.json\"\n",
    "        normerror_file = yielddir + cat + \"/\" + histname + \"_normerror.json\"\n",
    "        with open(norm_file, \"r\") as f:\n",
    "            norms = json.load(f)\n",
    "        with open(normerror_file, \"r\") as f:\n",
    "            normerrors = json.load(f)\n",
    "        norms_allcats[cat] = norms\n",
    "        normerrors_allcats[cat] = normerrors\n",
    "    \n",
    "    print (\"|-\")\n",
    "    print (\"| |\", \"|\".join(cat_keys))\n",
    "    print (\"|-\")\n",
    "    print (\"|-\")\n",
    "    for process in process_keys:\n",
    "        row_content = []\n",
    "        for cat in cat_keys:\n",
    "            row_content.append(\"{:.2f} $\\pm$ {:.2f}\".format(norms_allcats[cat][process], normerrors_allcats[cat][process]) )\n",
    "        if process == \"bkg\" or process == \"signal\":\n",
    "            print (\"|-\")\n",
    "        print (\"| {} | {}\".format(process, \"|\".join(row_content)))\n",
    "    print (\"|-\")\n",
    "\n",
    "#make_table(\"/home/users/hmei/public_html/2021/2021-01-18_test/\", \"dipho\", \"pho_pT1\")\n",
    "#make_table_all(\"/home/users/hmei/public_html/2021/2021-01-18_test/\", \"pho_pT1\")\n",
    "make_table_all(\"/home/users/hmei/public_html/2021/2021-01-21_test/\", \"pho_pT1\")"
   ]
  },
  {
   "cell_type": "code",
   "execution_count": 79,
   "metadata": {
    "scrolled": true
   },
   "outputs": [
    {
     "name": "stdout",
     "output_type": "stream",
     "text": [
      "dipho\n",
      "data: 3064836.00 \\pm 1750.67\n",
      "GJet: 1336682.45 \\pm 11395.01\n",
      "QCD: 728856.95 \\pm 15090.55\n",
      "ttbar: 8602.45 \\pm 147.41\n",
      "ZG: 17642.09 \\pm 102.47\n",
      "WG: 6936.98 \\pm 113.16\n",
      "Diphoton: 249266.17 \\pm 335.27\n",
      "bkg: 2347987.10 \\pm 18913.71\n",
      "signal: 236.14 \\pm 0.37\n",
      "###\n",
      "0lep_1tau\n",
      "data: 39500.00 \\pm 198.75\n",
      "GJet: 19051.50 \\pm 1214.49\n",
      "QCD: 11333.25 \\pm 1899.82\n",
      "ttbar: 288.76 \\pm 26.88\n",
      "ZG: 616.76 \\pm 19.10\n",
      "WG: 126.97 \\pm 15.29\n",
      "Diphoton: 6306.63 \\pm 44.21\n",
      "bkg: 37723.87 \\pm 2255.57\n",
      "signal: 74.06 \\pm 0.21\n",
      "###\n",
      "0lep_2tau\n",
      "data: 33.00 \\pm 5.74\n",
      "GJet: 6.99 \\pm 6.99\n",
      "QCD: 0.00 \\pm 0.00\n",
      "ttbar: -0.02 \\pm 1.34\n",
      "ZG: 7.76 \\pm 2.19\n",
      "WG: 0.00 \\pm 0.00\n",
      "Diphoton: 10.23 \\pm 1.75\n",
      "bkg: 24.96 \\pm 7.65\n",
      "signal: 11.97 \\pm 0.08\n",
      "###\n",
      "1lep_1tau\n",
      "data: 74.00 \\pm 8.60\n",
      "GJet: 0.00 \\pm 0.00\n",
      "QCD: 0.00 \\pm 0.00\n",
      "ttbar: 5.71 \\pm 4.02\n",
      "ZG: 30.76 \\pm 4.11\n",
      "WG: 0.00 \\pm 0.00\n",
      "Diphoton: 4.19 \\pm 0.97\n",
      "bkg: 40.66 \\pm 5.83\n",
      "signal: 9.61 \\pm 0.07\n",
      "###\n",
      "2lep_0tau\n",
      "data: 227.00 \\pm 15.07\n",
      "GJet: 65.31 \\pm 52.39\n",
      "QCD: 0.00 \\pm 0.00\n",
      "ttbar: 12.28 \\pm 6.35\n",
      "ZG: 246.22 \\pm 12.02\n",
      "WG: 0.00 \\pm 0.00\n",
      "Diphoton: 15.81 \\pm 1.98\n",
      "bkg: 339.63 \\pm 54.16\n",
      "signal: 4.87 \\pm 0.05\n",
      "###\n",
      "1lep_0tau\n",
      "data: 25040.00 \\pm 158.24\n",
      "GJet: 2941.66 \\pm 475.38\n",
      "QCD: 749.65 \\pm 469.76\n",
      "ttbar: 1526.04 \\pm 61.19\n",
      "ZG: 9015.91 \\pm 73.49\n",
      "WG: 819.97 \\pm 38.83\n",
      "Diphoton: 949.82 \\pm 18.34\n",
      "bkg: 16003.06 \\pm 676.50\n",
      "signal: 47.57 \\pm 0.17\n",
      "###\n"
     ]
    }
   ],
   "source": [
    "yield_dir = \"/home/users/hmei/public_html/2021/2021-01-18_test/\"\n",
    "for cat in cat_keys:\n",
    "    print (cat)\n",
    "    make_table(yield_dir, cat, \"pho_pT1\")\n",
    "    print (\"###\")"
   ]
  },
  {
   "cell_type": "code",
   "execution_count": 142,
   "metadata": {},
   "outputs": [
    {
     "name": "stdout",
     "output_type": "stream",
     "text": [
      "data: 25040.00 \\pm 158.24\n",
      "GJet: 2957.11 \\pm 477.49\n",
      "ttbar: 0.72 \\pm 0.01\n",
      "ZG: 84.61 \\pm 0.43\n",
      "WG: 824.65 \\pm 39.05\n",
      "Diphoton: 4307.99 \\pm 57.79\n",
      "bkg: 8175.07 \\pm 482.56\n",
      "signal: 47.58 \\pm 0.17\n"
     ]
    }
   ],
   "source": [
    "make_table(\"/home/users/hmei/public_html/2021/2021-01-19_test/\", \"1lep_0tau\", \"n_lepton\")"
   ]
  },
  {
   "cell_type": "code",
   "execution_count": 141,
   "metadata": {},
   "outputs": [
    {
     "name": "stdout",
     "output_type": "stream",
     "text": [
      "data: 25040.00 \\pm 158.24\n",
      "GJet: 2941.66 \\pm 475.38\n",
      "ttbar: 1526.04 \\pm 61.19\n",
      "ZG: 9015.91 \\pm 73.49\n",
      "WG: 819.97 \\pm 38.83\n",
      "Diphoton: 949.82 \\pm 18.34\n",
      "bkg: 15253.41 \\pm 486.80\n",
      "signal: 47.57 \\pm 0.17\n"
     ]
    }
   ],
   "source": [
    "make_table(\"/home/users/hmei/public_html/2021/2021-01-19_test/\", \"1lep_0tau\", \"lepton_pT1\")"
   ]
  },
  {
   "cell_type": "code",
   "execution_count": 140,
   "metadata": {},
   "outputs": [
    {
     "name": "stdout",
     "output_type": "stream",
     "text": [
      "data: 25040.00 \\pm 158.24\n",
      "GJet: 2941.66 \\pm 475.38\n",
      "QCD: 749.65 \\pm 469.76\n",
      "ttbar: 1526.04 \\pm 61.19\n",
      "ZG: 9015.91 \\pm 73.49\n",
      "WG: 819.97 \\pm 38.83\n",
      "Diphoton: 949.82 \\pm 18.34\n",
      "bkg: 16003.06 \\pm 676.50\n",
      "signal: 47.57 \\pm 0.17\n"
     ]
    }
   ],
   "source": [
    "make_table(\"/home/users/hmei/public_html/2021/2021-01-19_test/\", \"1lep_0tau\", \"pho_pT1\")"
   ]
  },
  {
   "cell_type": "code",
   "execution_count": 66,
   "metadata": {},
   "outputs": [
    {
     "name": "stdout",
     "output_type": "stream",
     "text": [
      "hists/basic/1lep_1tau/signal/dR_tau_e.json\n",
      "hists/basic/1lep_1tau/signal/dR_tau_mu.json\n",
      "hists/basic/1lep_1tau/signal/electron_eta1.json\n",
      "hists/basic/1lep_1tau/signal/electron_iso1.json\n",
      "hists/basic/1lep_1tau/signal/electron_phi1.json\n",
      "hists/basic/1lep_1tau/signal/electron_pT1.json\n",
      "hists/basic/1lep_1tau/signal/mtaue.json\n",
      "hists/basic/1lep_1tau/signal/mtaumu.json\n",
      "hists/basic/1lep_1tau/signal/muon_eta1.json\n",
      "hists/basic/1lep_1tau/signal/muon_iso1.json\n",
      "hists/basic/1lep_1tau/signal/muon_phi1.json\n",
      "hists/basic/1lep_1tau/signal/muon_pT1.json\n",
      "hists/basic/1lep_1tau/signal/n_electron.json\n",
      "hists/basic/1lep_1tau/signal/n_muon.json\n",
      "hists/basic/1lep_1tau/signal/n_tau.json\n",
      "hists/basic/1lep_1tau/signal/pho_eta1.json\n",
      "hists/basic/1lep_1tau/signal/pho_eta2.json\n",
      "hists/basic/1lep_1tau/signal/pho_id1.json\n",
      "hists/basic/1lep_1tau/signal/pho_id2.json\n",
      "hists/basic/1lep_1tau/signal/pho_phi1.json\n",
      "hists/basic/1lep_1tau/signal/pho_phi2.json\n",
      "hists/basic/1lep_1tau/signal/pho_pT1.json\n",
      "hists/basic/1lep_1tau/signal/pho_pT2.json\n",
      "hists/basic/1lep_1tau/signal/pho_pTom1.json\n",
      "hists/basic/1lep_1tau/signal/pho_pTom2.json\n",
      "hists/basic/1lep_1tau/signal/tau_deeptau_vs_e_1.json\n",
      "hists/basic/1lep_1tau/signal/tau_deeptau_vs_j_1.json\n",
      "hists/basic/1lep_1tau/signal/tau_deeptau_vs_m_1.json\n",
      "hists/basic/1lep_1tau/signal/tau_eta1.json\n",
      "hists/basic/1lep_1tau/signal/tau_phi1.json\n",
      "hists/basic/1lep_1tau/signal/tau_pT1.json\n"
     ]
    }
   ],
   "source": [
    "%%bash\n",
    "ls hists/basic/1lep_1tau/signal/*json"
   ]
  }
 ],
 "metadata": {
  "kernelspec": {
   "display_name": "Python 3",
   "language": "python",
   "name": "python3"
  },
  "language_info": {
   "codemirror_mode": {
    "name": "ipython",
    "version": 3
   },
   "file_extension": ".py",
   "mimetype": "text/x-python",
   "name": "python",
   "nbconvert_exporter": "python",
   "pygments_lexer": "ipython3",
   "version": "3.7.9"
  }
 },
 "nbformat": 4,
 "nbformat_minor": 4
}
