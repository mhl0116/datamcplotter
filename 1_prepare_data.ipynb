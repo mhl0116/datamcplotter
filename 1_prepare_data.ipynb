{
 "cells": [
  {
   "cell_type": "code",
   "execution_count": 2,
   "metadata": {},
   "outputs": [
    {
     "data": {
      "text/html": [
       "<table style=\"border: 2px solid white;\">\n",
       "<tr>\n",
       "<td style=\"vertical-align: top; border: 0px solid white\">\n",
       "<h3 style=\"text-align: left;\">Client</h3>\n",
       "<ul style=\"text-align: left; list-style: none; margin: 0; padding: 0;\">\n",
       "  <li><b>Scheduler: </b>tcp://169.228.130.5:17763</li>\n",
       "  <li><b>Dashboard: </b><a href='http://169.228.130.5:13346/status' target='_blank'>http://169.228.130.5:13346/status</a></li>\n",
       "</ul>\n",
       "</td>\n",
       "<td style=\"vertical-align: top; border: 0px solid white\">\n",
       "<h3 style=\"text-align: left;\">Cluster</h3>\n",
       "<ul style=\"text-align: left; list-style:none; margin: 0; padding: 0;\">\n",
       "  <li><b>Workers: </b>102</li>\n",
       "  <li><b>Cores: </b>102</li>\n",
       "  <li><b>Memory: </b>408.00 GB</li>\n",
       "</ul>\n",
       "</td>\n",
       "</tr>\n",
       "</table>"
      ],
      "text/plain": [
       "<Client: 'tcp://169.228.130.5:17763' processes=102 threads=102, memory=408.00 GB>"
      ]
     },
     "execution_count": 2,
     "metadata": {},
     "output_type": "execute_result"
    }
   ],
   "source": [
    "client = Client(\"tcp://169.228.130.5:17763\")\n",
    "client"
   ]
  },
  {
   "cell_type": "markdown",
   "metadata": {},
   "source": [
    "## cross section"
   ]
  },
  {
   "cell_type": "code",
   "execution_count": 1,
   "metadata": {},
   "outputs": [
    {
     "data": {
      "text/plain": [
       "{'DYJets': 5941.0,\n",
       " 'ttbar': 831.76,\n",
       " 'ZG': 55.6,\n",
       " 'WG': 191.4,\n",
       " 'GJets_HT40To100': 23100.0,\n",
       " 'GJets_HT100To200': 8631.0,\n",
       " 'GJets_HT200To400': 2280.0,\n",
       " 'GJets_HT400To600': 273.0,\n",
       " 'GJets_HT600ToInf': 94.5,\n",
       " 'QCD_pT30To40': 24810.0,\n",
       " 'QCD_pT40ToInf': 113400.0,\n",
       " 'Diphoton': 84.4,\n",
       " 'ZH': 0.002006453,\n",
       " 'signal': 0.0098}"
      ]
     },
     "execution_count": 1,
     "metadata": {},
     "output_type": "execute_result"
    }
   ],
   "source": [
    "xs = {\n",
    "    \"DYJets\": 5941.0,\n",
    "    \"ttbar\": 831.76, \n",
    "    \"ZG\": 55.6, \n",
    "    \"WG\": 191.4,\n",
    "    \"GJets_HT40To100\": 23100.0, \n",
    "    \"GJets_HT100To200\": 8631.0,\n",
    "    \"GJets_HT200To400\": 2280.0,\n",
    "    \"GJets_HT400To600\": 273.0,\n",
    "    \"GJets_HT600ToInf\": 94.5,\n",
    "    \"QCD_pT30To40\": 24810.0,\n",
    "    \"QCD_pT40ToInf\": 113400.0,\n",
    "    \"Diphoton\": 84.4,\n",
    "    \"ZH\": 0.002006453, #https://github.com/cms-analysis/flashgg/blob/dev_legacy_runII/MetaData/data/cross_sections.json\n",
    "    \"signal\": 0.0098 #fb, all bkg are in pb\n",
    "} \n",
    "xs"
   ]
  },
  {
   "cell_type": "code",
   "execution_count": 8,
   "metadata": {},
   "outputs": [],
   "source": [
    "import json\n",
    "filename = \"./metadata/xsection.json\"\n",
    "with open(filename, \"w\") as f:\n",
    "    json.dump(xs, f, indent=4)"
   ]
  },
  {
   "cell_type": "markdown",
   "metadata": {},
   "source": [
    "## total weight"
   ]
  },
  {
   "cell_type": "code",
   "execution_count": 4,
   "metadata": {},
   "outputs": [],
   "source": [
    "def get_totWeight(args):\n",
    "    fname = args[0]\n",
    "    f = uproot4.open(fname)\n",
    "    t = f[\"Runs\"]\n",
    "    return np.sum(t[\"genEventSumw\"].array())"
   ]
  },
  {
   "cell_type": "code",
   "execution_count": 468,
   "metadata": {},
   "outputs": [
    {
     "name": "stdout",
     "output_type": "stream",
     "text": [
      "start process DYJets\n",
      "start process ttbar\n",
      "start process ZG\n",
      "start process WG\n",
      "start process GJets_HT40To100\n",
      "start process GJets_HT100To200\n",
      "start process GJets_HT200To400\n",
      "start process GJets_HT400To600\n",
      "start process GJets_HT600ToInf\n",
      "start process QCD_pT30To40\n",
      "start process QCD_pT40ToInf\n",
      "start process Diphoton\n",
      "start process ZH\n",
      "start process signal\n"
     ]
    }
   ],
   "source": [
    "futures_w = {}\n",
    "results_w = {}\n",
    "\n",
    "for key in chunks:\n",
    "    if \"EGamma\" in key: continue\n",
    "    print (\"start process {}\".format(key))\n",
    "    futures_w[key] = client.map(get_totWeight, chunks[key], retries=5)\n",
    "    \n",
    "    results_local = []\n",
    "    while len(results_local) < len(chunks[key]): \n",
    "        ac = as_completed(futures_w[key], with_results=True)\n",
    "        \n",
    "        for future, result in ac:\n",
    "            results_local.append(result)\n",
    "            \n",
    "    results_w[key] = np.sum(np.array(results_local))"
   ]
  },
  {
   "cell_type": "code",
   "execution_count": 6,
   "metadata": {},
   "outputs": [],
   "source": [
    "results_w = {'DYJets': 17799598587.564648,\n",
    " 'ttbar': 284532045536.7458,\n",
    " 'ZG': 1514115614.2427294,\n",
    " 'WG': 6107452.571461948,\n",
    " 'GJets_HT40To100': 9370096.751511302,\n",
    " 'GJets_HT100To200': 9795369.458845828,\n",
    " 'GJets_HT200To400': 19051574.496664558,\n",
    " 'GJets_HT400To600': 4650962.691182764,\n",
    " 'GJets_HT600ToInf': 4970069.563275842,\n",
    " 'QCD_pT30To40': 14526026.0,\n",
    " 'QCD_pT40ToInf': 20622034.0,\n",
    " 'Diphoton': 6423331.3,\n",
    " 'ZH': 1740.8696149528298,\n",
    " 'signal': 997898.0}"
   ]
  },
  {
   "cell_type": "code",
   "execution_count": 7,
   "metadata": {},
   "outputs": [],
   "source": [
    "filename_w = \"./metadata/totalWeights.json\"\n",
    "with open(filename_w, \"w\") as f:\n",
    "    json.dump(results_w, f, indent=4)"
   ]
  },
  {
   "cell_type": "markdown",
   "metadata": {},
   "source": [
    "## file chunks"
   ]
  },
  {
   "cell_type": "code",
   "execution_count": 9,
   "metadata": {},
   "outputs": [
    {
     "name": "stdout",
     "output_type": "stream",
     "text": [
      "CPU times: user 10.3 ms, sys: 2.45 ms, total: 12.8 ms\n",
      "Wall time: 454 ms\n"
     ]
    }
   ],
   "source": [
    "%%time\n",
    "\n",
    "filepath = \"/hadoop/cms/store/user/legianni/ProjectMetis/\" \n",
    "skim_version = \"x3\"\n",
    "\n",
    "DY_files = filepath + \"DYJetsToLL_M-50_TuneCP5_13TeV-amcatnloFXFX-pythia8_18____\" + skim_version + \"/*root\"\n",
    "ttbar_files = filepath + \"TTJets_TuneCP5_13TeV-amcatnloFXFX-pythia8_18____\" + skim_version + \"/*root\"\n",
    "ZG_files = filepath + \"ZGToLLG_01J_5f_TuneCP5_13TeV-amcatnloFXFX-pythia8_18_3____\" + skim_version + \"/*root\"\n",
    "WG_files = filepath + \"WGToLNuG_TuneCP5_13TeV-madgraphMLM-pythia8_18____\" + skim_version + \"/*root\"\n",
    "GJets_HT40To100_files = filepath + \"GJets_HT-40To100_TuneCP5_13TeV-madgraphMLM-pythia8_18____\" + skim_version + \"/*root\"\n",
    "GJets_HT100To200_files = filepath + \"GJets_HT-100To200_TuneCP5_13TeV-madgraphMLM-pythia8_18____\" + skim_version + \"/*root\"\n",
    "GJets_HT200To400_files = filepath + \"GJets_HT-200To400_TuneCP5_13TeV-madgraphMLM-pythia8_18____\" + skim_version + \"/*root\"\n",
    "GJets_HT400To600_files = filepath + \"GJets_HT-400To600_TuneCP5_13TeV-madgraphMLM-pythia8_18____\" + skim_version + \"/*root\"\n",
    "GJets_HT600ToInf_files = filepath + \"GJets_HT-600ToInf_TuneCP5_13TeV-madgraphMLM-pythia8_18____\" + skim_version + \"/*root\"\n",
    "QCD_pT30To40_files = filepath + \"QCD_Pt-30to40_DoubleEMEnriched_MGG-80toInf_TuneCP5_13TeV_Pythia8_17____\" + skim_version + \"/*root\"\n",
    "QCD_pT40ToInf_files = filepath + \"QCD_Pt-40toInf_DoubleEMEnriched_MGG-80toInf_TuneCP5_13TeV_Pythia8_17____\" + skim_version + \"//*root\"\n",
    "Diphoton_files = filepath + \"DiPhotonJetsBox_MGG-80toInf_13TeV-Sherpa_18____\" + skim_version + \"/*root\"\n",
    "\n",
    "import glob\n",
    "background_fileset = {\n",
    "    \"DYJets\": glob.glob(DY_files),\n",
    "    \"ttbar\": glob.glob(ttbar_files),\n",
    "    \"ZG\": glob.glob(ZG_files),\n",
    "    \"WG\": glob.glob(WG_files),\n",
    "    \"GJets_HT40To100\": glob.glob(GJets_HT40To100_files),\n",
    "    \"GJets_HT100To200\": glob.glob(GJets_HT100To200_files),\n",
    "    \"GJets_HT200To400\": glob.glob(GJets_HT200To400_files),\n",
    "    \"GJets_HT400To600\": glob.glob(GJets_HT400To600_files),\n",
    "    \"GJets_HT600ToInf\": glob.glob(GJets_HT600ToInf_files),\n",
    "    \"QCD_pT30To40\": glob.glob(QCD_pT30To40_files),\n",
    "    \"QCD_pT40ToInf\": glob.glob(QCD_pT40ToInf_files),\n",
    "    \"Diphoton\": glob.glob(Diphoton_files)\n",
    "}\n",
    "\n",
    "background_res_fileset = {\n",
    "    \"ZH\":glob.glob(filepath + \"ggZH_HToGG_ZToLL_M125_TuneCP5_13TeV-powheg-pythia8_18____\" + skim_version + \"/*.root\"),\n",
    "} \n",
    "\n",
    "signal_fileset = {\n",
    "    \"signal\":glob.glob(filepath + \"HHggtautau_Era2017____x3/*.root\"),\n",
    "}\n",
    "\n",
    "data_fileset = {\n",
    "    \"EGamma_2018A\":glob.glob(filepath + \"EGamma_Run2018A____\" + skim_version + \"/*root\"),\n",
    "    \"EGamma_2018B\":glob.glob(filepath + \"EGamma_Run2018B____\" + skim_version + \"/*root\"),\n",
    "    \"EGamma_2018C\":glob.glob(filepath + \"EGamma_Run2018C____\" + skim_version + \"/*root\"),\n",
    "    \"EGamma_2018D\":glob.glob(filepath + \"EGamma_Run2018D____\" + skim_version + \"/*root\")\n",
    "}\n",
    "\n",
    "filesets = {\"data\": data_fileset,\n",
    "            \"background\": background_fileset,\n",
    "            \"background_res\": background_res_fileset,\n",
    "            \"signal\": signal_fileset}"
   ]
  },
  {
   "cell_type": "code",
   "execution_count": 11,
   "metadata": {},
   "outputs": [
    {
     "name": "stderr",
     "output_type": "stream",
     "text": [
      "/home/users/hmei/miniconda3/envs/daskworkerenv2/lib/python3.7/site-packages/uproot3/__init__.py:138: FutureWarning: Consider switching from 'uproot3' to 'uproot', since the new interface became the default in 2020.\n",
      "\n",
      "    pip install -U uproot\n",
      "\n",
      "In Python:\n",
      "\n",
      "    >>> import uproot\n",
      "    >>> with uproot.open(...) as file:\n",
      "    ...\n",
      "\n",
      "  FutureWarning\n",
      "/home/users/hmei/miniconda3/envs/daskworkerenv2/lib/python3.7/site-packages/awkward0/__init__.py:23: FutureWarning: Consider switching from 'awkward0' to 'awkward', since the new interface became the default in 2020.\n",
      "\n",
      "    pip install -U awkward\n",
      "\n",
      "In Python:\n",
      "\n",
      "    >>> import awkward as ak\n",
      "    >>> new_style_array = ak.from_awkward0(old_style_array)\n",
      "    >>> old_style_array = ak.to_awkward0(new_style_array)\n",
      "\n",
      "  FutureWarning\n"
     ]
    },
    {
     "name": "stdout",
     "output_type": "stream",
     "text": [
      "EGamma_2018A: total 93164815 events, got 239 files, return 239 chunks\n",
      "EGamma_2018B: total 50705031 events, got 98 files, return 155 chunks\n",
      "EGamma_2018C: total 49484413 events, got 110 files, return 118 chunks\n",
      "EGamma_2018D: total 229268651 events, got 426 files, return 782 chunks\n",
      "DYJets: total 158051 events, got 1 files, return 1 chunks\n",
      "ttbar: total 35821609 events, got 167 files, return 167 chunks\n",
      "ZG: total 4735292 events, got 14 files, return 14 chunks\n",
      "WG: total 435890 events, got 6 files, return 6 chunks\n",
      "GJets_HT40To100: total 580125 events, got 7 files, return 7 chunks\n",
      "GJets_HT100To200: total 1422209 events, got 9 files, return 9 chunks\n",
      "GJets_HT200To400: total 4925264 events, got 16 files, return 16 chunks\n",
      "GJets_HT400To600: total 1384436 events, got 7 files, return 7 chunks\n",
      "GJets_HT600ToInf: total 1522839 events, got 9 files, return 9 chunks\n",
      "QCD_pT30To40: total 1109922 events, got 9 files, return 9 chunks\n",
      "QCD_pT40ToInf: total 3152328 events, got 13 files, return 13 chunks\n",
      "Diphoton: total 4313075 events, got 17 files, return 17 chunks\n",
      "ZH: total 241976 events, got 1 files, return 1 chunks\n",
      "signal: total 841086 events, got 25 files, return 25 chunks\n",
      "\n",
      "total events to be processed: 4.83e+08\n",
      "total chunks: 1595\n",
      "CPU times: user 1min 3s, sys: 8.33 s, total: 1min 11s\n",
      "Wall time: 3min 19s\n"
     ]
    }
   ],
   "source": [
    "%%time\n",
    "import utils\n",
    "\n",
    "chunk_size = 5e5\n",
    "chunks = {}\n",
    "tot_evts = 0\n",
    "tot_chunks = 0\n",
    "\n",
    "for cat in [\"data\", \"background\", \"background_res\", \"signal\"]:\n",
    "    fileset = filesets[cat]\n",
    "    for key in fileset:\n",
    "        fnames = fileset[key]\n",
    "        cks, evts = utils.get_chunking(tuple(fnames),chunk_size,treename=\"Events\")\n",
    "        chunks[key] = cks\n",
    "        tot_evts += evts\n",
    "        tot_chunks += len(cks)\n",
    "        print(\"{}: total {} events, got {} files, return {} chunks\".format(key, evts, len(fnames), len(cks))) \n",
    "print()\n",
    "#print(chunks.keys())\n",
    "print (\"total events to be processed: {0:8.2e}\".format(tot_evts) )\n",
    "print (\"total chunks: {}\".format(tot_chunks))"
   ]
  },
  {
   "cell_type": "code",
   "execution_count": 22,
   "metadata": {},
   "outputs": [],
   "source": [
    "filename_chunk = \"./metadata/chunklist.json\"\n",
    "with open(filename_chunk, \"w\") as f:\n",
    "    json.dump(chunks, f, indent=4)"
   ]
  }
 ],
 "metadata": {
  "kernelspec": {
   "display_name": "Python 3",
   "language": "python",
   "name": "python3"
  },
  "language_info": {
   "codemirror_mode": {
    "name": "ipython",
    "version": 3
   },
   "file_extension": ".py",
   "mimetype": "text/x-python",
   "name": "python",
   "nbconvert_exporter": "python",
   "pygments_lexer": "ipython3",
   "version": "3.7.9"
  }
 },
 "nbformat": 4,
 "nbformat_minor": 4
}
