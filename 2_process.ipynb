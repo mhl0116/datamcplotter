{
 "cells": [
  {
   "cell_type": "code",
   "execution_count": 1,
   "metadata": {},
   "outputs": [],
   "source": [
    "%load_ext autoreload"
   ]
  },
  {
   "cell_type": "code",
   "execution_count": 2,
   "metadata": {},
   "outputs": [],
   "source": [
    "%autoreload 1"
   ]
  },
  {
   "cell_type": "code",
   "execution_count": 4,
   "metadata": {},
   "outputs": [],
   "source": [
    "%aimport event_selector\n",
    "%aimport looper_utils\n",
    "%aimport make_plots"
   ]
  },
  {
   "cell_type": "code",
   "execution_count": 5,
   "metadata": {},
   "outputs": [],
   "source": [
    "import awkward as ak\n",
    "import uproot\n",
    "import numpy as np\n",
    "from yahist import Hist1D, Hist2D"
   ]
  },
  {
   "cell_type": "markdown",
   "metadata": {},
   "source": [
    "## Load data"
   ]
  },
  {
   "cell_type": "code",
   "execution_count": 6,
   "metadata": {},
   "outputs": [
    {
     "name": "stdout",
     "output_type": "stream",
     "text": [
      "chunklist.json\n",
      "totalWeights.json\n",
      "xsection.json\n"
     ]
    }
   ],
   "source": [
    "%%bash\n",
    "ls metadata/"
   ]
  },
  {
   "cell_type": "code",
   "execution_count": 7,
   "metadata": {},
   "outputs": [
    {
     "data": {
      "text/plain": [
       "dict_keys(['EGamma_2018A', 'EGamma_2018B', 'EGamma_2018C', 'EGamma_2018D', 'DYJets', 'ttbar', 'ZG', 'WG', 'GJets_HT40To100', 'GJets_HT100To200', 'GJets_HT200To400', 'GJets_HT400To600', 'GJets_HT600ToInf', 'QCD_pT30To40', 'QCD_pT40ToInf', 'Diphoton', 'ZH', 'signal'])"
      ]
     },
     "execution_count": 7,
     "metadata": {},
     "output_type": "execute_result"
    }
   ],
   "source": [
    "import json\n",
    "with open(\"./metadata/chunklist.json\") as f:\n",
    "    chunks = json.load(f) \n",
    "chunks.keys()"
   ]
  },
  {
   "cell_type": "markdown",
   "metadata": {},
   "source": [
    "## Process data"
   ]
  },
  {
   "cell_type": "code",
   "execution_count": 8,
   "metadata": {},
   "outputs": [],
   "source": [
    "def process(args):\n",
    "    \n",
    "    import event_selector\n",
    "    import make_plots\n",
    "    \n",
    "    obj_list = [\"electron\", \"muon\", \"tau\", \"photon\", \"others\"]\n",
    "   \n",
    "    isData = \"EGamma\" in args[0]\n",
    "    events = event_selector.prepare_inputs(args, obj_list, isData=isData)\n",
    "    \n",
    "    tot_w = ak.sum(events.genWeight)\n",
    "    mgg = events.ggMass\n",
    "    \n",
    "    ## need to change gHidx\n",
    "    gHidx = event_selector.get_gHidx(args) \n",
    "    g_Hidx = gHidx.gHidx\n",
    "    mask_diphoton = event_selector.select_photon_byEvent(events.Photon, g_Hidx, mgg)\n",
    "    \n",
    "    mask_photon = event_selector.select_photon(events.Photon, g_Hidx, mgg)\n",
    "    photons_selected = events.Photon[mask_photon] \n",
    "    nPho = ak.num(photons_selected)\n",
    "    \n",
    "    mask_tau = event_selector.select_tau(events.Tau, \"all\", isTight=False)\n",
    "    ## clean by dR wrt photons\n",
    "    mask_tau = mask_tau & looper_utils.mask_by_dR(events.Tau, photons_selected, 0.2)\n",
    "    nTau = ak.num(events.Tau[mask_tau])\n",
    "    \n",
    "    mask_ele = event_selector.select_electron(events.Electron, isTight=False)\n",
    "    mask_ele = mask_ele & looper_utils.mask_by_dR(events.Electron, photons_selected, 0.2)\n",
    "    nEle = ak.num(events.Electron[mask_ele])\n",
    "    \n",
    "    mask_mu = event_selector.select_muon(events.Muon, isTight=False)\n",
    "    mask_mu = mask_mu & looper_utils.mask_by_dR(events.Muon, photons_selected, 0.2)\n",
    "    nMu = ak.num(events.Muon[mask_mu])\n",
    "    \n",
    "    sum_charge = (ak.sum(events.Tau.charge, axis=1) + ak.sum(events.Electron.charge, axis=1) + ak.sum(events.Muon.charge, axis=1) == 0) \n",
    "    mask_dipho = (nPho == 2)\n",
    "    mask_0lep_1tau = (nPho == 2) & (nTau == 1) & (nEle == 0) & (nMu == 0)\n",
    "    mask_0lep_2tau = (nPho == 2) & (nTau == 2) & (nEle == 0) & (nMu == 0) & (sum_charge)\n",
    "    mask_1lep_1tau = (nPho == 2) & (nTau == 1) & (nEle + nMu == 1) & (sum_charge)\n",
    "    mask_2lep_0tau = (nPho == 2) & (nTau == 0) & (nEle + nMu == 2) & (sum_charge)\n",
    "    mask_1lep_0tau = (nPho == 2) & (nTau == 0) & (nEle + nMu == 1)\n",
    "    \n",
    "    masks = {\"dipho\": mask_dipho,\n",
    "             \"0lep_1tau\": mask_0lep_1tau,\n",
    "             \"0lep_2tau\": mask_0lep_2tau,\n",
    "             \"1lep_1tau\": mask_1lep_1tau,\n",
    "             \"2lep_0tau\": mask_2lep_0tau,\n",
    "             \"1lep_0tau\": mask_1lep_0tau}\n",
    "    \n",
    "    hists = {}\n",
    "    \n",
    "    for key, mask in masks.items():\n",
    "        print (key)\n",
    "        #hists[key] = process_event(genWeight[mask], evt_vars[mask])\n",
    "        #print (\"process diphoton\")\n",
    "        hists[key] =  make_plots.process_diphoton(events.Photon[mask], g_Hidx[mask], mgg[mask], events.genWeight[mask])\n",
    "        #print (\"process tau\")\n",
    "        hists[key].update( make_plots.process_tau(events.Tau[mask_tau][mask], events.genWeight[mask]))\n",
    "        #print (\"process muon\")\n",
    "        hists[key].update( make_plots.process_muon(events.Muon[mask_mu][mask], events.genWeight[mask]))\n",
    "        #print (\"process electron\")\n",
    "        hists[key].update( make_plots.process_electron(events.Electron[mask_ele][mask], events.genWeight[mask]))\n",
    "        #print (\"process tau-lep\")\n",
    "        if key == \"1lep_1tau\":\n",
    "            tmphists = hists[key].update( make_plots.process_1tau_1lep(events.Tau[mask_tau][mask], events.Muon[mask_mu][mask],\n",
    "                                                                       events.Electron[mask_ele][mask], events.genWeight[mask]))\n",
    "            #if bool(tmphists):\n",
    "            #    hists[key].update(tmphists)\n",
    "    \n",
    "    return hists"
   ]
  },
  {
   "cell_type": "code",
   "execution_count": 10,
   "metadata": {},
   "outputs": [
    {
     "name": "stdout",
     "output_type": "stream",
     "text": [
      "dipho\n",
      "0lep_1tau\n",
      "0lep_2tau\n",
      "1lep_1tau\n",
      "2lep_0tau\n",
      "1lep_0tau\n",
      "CPU times: user 5.51 s, sys: 96.9 ms, total: 5.61 s\n",
      "Wall time: 7.05 s\n"
     ]
    }
   ],
   "source": [
    "%%time\n",
    "hists = process(chunks[\"signal\"][0])\n",
    "#hists = process((chunks[\"signal\"][0][0], 0, 200) )\n",
    "#hists = process(chunks[\"ZH\"][0])"
   ]
  },
  {
   "cell_type": "markdown",
   "metadata": {},
   "source": [
    "## local checks"
   ]
  },
  {
   "cell_type": "code",
   "execution_count": 23,
   "metadata": {},
   "outputs": [
    {
     "data": {
      "text/html": [
       "\n",
       "        <div style=\"max-height:1000px;max-width:1500px;overflow:auto\">\n",
       "        <b>total count</b>: 3407.0, <b>metadata</b>: {'label': 'n electrons'}<br>\n",
       "        <div style=\"display:flex;\">\n",
       "            <div style=\"display:inline;\">\n",
       "                \n",
       "                <table style='border:1px solid black;'\">\n",
       "                    <thead><tr><th>bin</th><th>content</th></tr></thead>\n",
       "                    <tr><td>(0,1)</td><td>0 ± 0</td></tr> <tr><td>(1,2)</td><td>3208 ± 56.6392</td></tr> <tr><td>(2,3)</td><td>199 ± 14.1067</td></tr> <tr><td>(3,4)</td><td>0 ± 0</td></tr> <tr><td>(4,5)</td><td>0 ± 0</td></tr>\n",
       "                </table>\n",
       "            \n",
       "            </div>\n",
       "            <div style=\"display:inline; margin: auto 2%;\">\n",
       "                <img src='data:image/svg+xml;base64,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'/>\n",
       "            </div>\n",
       "            </div>\n",
       "        </div>\n",
       "        "
      ],
      "text/plain": [
       "[ 0.00 ± 0.00   3208.00 ± 56.64   199.00 ± 14.11    0.00 ± 0.00\n",
       "  0.00 ± 0.00]"
      ]
     },
     "execution_count": 23,
     "metadata": {},
     "output_type": "execute_result"
    }
   ],
   "source": [
    "#hists['1lep_1tau'].keys()\n",
    "hists['dipho']['n_electron']\n",
    "#hists['0lep_2tau']['mtautau']\n",
    "#hists['1lep_1tau']['dR_mumu']"
   ]
  },
  {
   "cell_type": "code",
   "execution_count": 14,
   "metadata": {},
   "outputs": [
    {
     "data": {
      "text/plain": [
       "10.295630085604653"
      ]
     },
     "execution_count": 14,
     "metadata": {},
     "output_type": "execute_result"
    }
   ],
   "source": [
    "#hists['dipho']['pho_pT1'].integral\n",
    "hists['dipho']['pho_pT1'].integral_error"
   ]
  },
  {
   "cell_type": "markdown",
   "metadata": {},
   "source": [
    "## send to dask"
   ]
  },
  {
   "cell_type": "code",
   "execution_count": 10,
   "metadata": {},
   "outputs": [
    {
     "data": {
      "text/html": [
       "<table style=\"border: 2px solid white;\">\n",
       "<tr>\n",
       "<td style=\"vertical-align: top; border: 0px solid white\">\n",
       "<h3 style=\"text-align: left;\">Client</h3>\n",
       "<ul style=\"text-align: left; list-style: none; margin: 0; padding: 0;\">\n",
       "  <li><b>Scheduler: </b>tcp://169.228.130.5:18075</li>\n",
       "  <li><b>Dashboard: </b><a href='http://169.228.130.5:13346/status' target='_blank'>http://169.228.130.5:13346/status</a></li>\n",
       "</ul>\n",
       "</td>\n",
       "<td style=\"vertical-align: top; border: 0px solid white\">\n",
       "<h3 style=\"text-align: left;\">Cluster</h3>\n",
       "<ul style=\"text-align: left; list-style:none; margin: 0; padding: 0;\">\n",
       "  <li><b>Workers: </b>147</li>\n",
       "  <li><b>Cores: </b>147</li>\n",
       "  <li><b>Memory: </b>588.00 GB</li>\n",
       "</ul>\n",
       "</td>\n",
       "</tr>\n",
       "</table>"
      ],
      "text/plain": [
       "<Client: 'tcp://169.228.130.5:18075' processes=147 threads=147, memory=588.00 GB>"
      ]
     },
     "execution_count": 10,
     "metadata": {},
     "output_type": "execute_result"
    }
   ],
   "source": [
    "from dask.distributed import Client\n",
    "\n",
    "client = Client(\"tcp://169.228.130.5:18075\")\n",
    "client"
   ]
  },
  {
   "cell_type": "code",
   "execution_count": 12,
   "metadata": {},
   "outputs": [
    {
     "data": {
      "text/html": [
       "<table style=\"border: 2px solid white;\">\n",
       "<tr>\n",
       "<td style=\"vertical-align: top; border: 0px solid white\">\n",
       "<h3 style=\"text-align: left;\">Client</h3>\n",
       "<ul style=\"text-align: left; list-style: none; margin: 0; padding: 0;\">\n",
       "  <li><b>Scheduler: </b>tcp://127.0.0.1:23798</li>\n",
       "  <li><b>Dashboard: </b><a href='http://127.0.0.1:8787/status' target='_blank'>http://127.0.0.1:8787/status</a></li>\n",
       "</ul>\n",
       "</td>\n",
       "<td style=\"vertical-align: top; border: 0px solid white\">\n",
       "<h3 style=\"text-align: left;\">Cluster</h3>\n",
       "<ul style=\"text-align: left; list-style:none; margin: 0; padding: 0;\">\n",
       "  <li><b>Workers: </b>30</li>\n",
       "  <li><b>Cores: </b>30</li>\n",
       "  <li><b>Memory: </b>120.00 GB</li>\n",
       "</ul>\n",
       "</td>\n",
       "</tr>\n",
       "</table>"
      ],
      "text/plain": [
       "<Client: 'tcp://127.0.0.1:23798' processes=30 threads=30, memory=120.00 GB>"
      ]
     },
     "execution_count": 12,
     "metadata": {},
     "output_type": "execute_result"
    }
   ],
   "source": [
    "from dask.distributed import Client\n",
    "c = Client(memory_limit='4GB', n_workers=30, threads_per_worker=1)\n",
    "c"
   ]
  },
  {
   "cell_type": "code",
   "execution_count": 15,
   "metadata": {},
   "outputs": [
    {
     "name": "stderr",
     "output_type": "stream",
     "text": [
      "distributed.client - ERROR - Failed to reconnect to scheduler after 10.00 seconds, closing client\n",
      "_GatheringFuture exception was never retrieved\n",
      "future: <_GatheringFuture finished exception=CancelledError()>\n",
      "concurrent.futures._base.CancelledError\n"
     ]
    }
   ],
   "source": [
    "c.shutdown()"
   ]
  },
  {
   "cell_type": "code",
   "execution_count": 18,
   "metadata": {},
   "outputs": [
    {
     "data": {
      "text/plain": [
       "['./utils.py',\n",
       " './condor_utils.py',\n",
       " './cachepreload.py',\n",
       " './__init__.py',\n",
       " './event_selector.py',\n",
       " './looper_utils.py',\n",
       " './make_plots.py']"
      ]
     },
     "execution_count": 18,
     "metadata": {},
     "output_type": "execute_result"
    }
   ],
   "source": [
    "def g():\n",
    "    import glob\n",
    "    allpys = glob.glob(\"./*py\")\n",
    "    return allpys\n",
    "g()    "
   ]
  },
  {
   "cell_type": "code",
   "execution_count": 19,
   "metadata": {},
   "outputs": [],
   "source": [
    "x = client.submit(g)"
   ]
  },
  {
   "cell_type": "code",
   "execution_count": 20,
   "metadata": {},
   "outputs": [
    {
     "data": {
      "text/plain": [
       "['./cachepreload.py',\n",
       " './event_selector.py',\n",
       " './looper_utils.py',\n",
       " './make_plots.py',\n",
       " './utils.py']"
      ]
     },
     "execution_count": 20,
     "metadata": {},
     "output_type": "execute_result"
    }
   ],
   "source": [
    "client.gather(x)"
   ]
  },
  {
   "cell_type": "code",
   "execution_count": 13,
   "metadata": {},
   "outputs": [
    {
     "name": "stdout",
     "output_type": "stream",
     "text": [
      "start process EGamma_2018A\n",
      "start process EGamma_2018B\n",
      "start process EGamma_2018C\n",
      "start process EGamma_2018D\n",
      "start process DYJets\n",
      "start process ttbar\n",
      "start process ZG\n",
      "start process WG\n",
      "start process GJets_HT40To100\n",
      "start process GJets_HT100To200\n",
      "start process GJets_HT200To400\n",
      "start process GJets_HT400To600\n",
      "start process GJets_HT600ToInf\n",
      "start process QCD_pT30To40\n",
      "start process QCD_pT40ToInf\n",
      "start process Diphoton\n",
      "start process ZH\n",
      "start process signal\n",
      "CPU times: user 18min 25s, sys: 3min 49s, total: 22min 14s\n",
      "Wall time: 1h 20min 35s\n"
     ]
    }
   ],
   "source": [
    "%%time\n",
    "from dask.distributed import as_completed\n",
    "import collections, functools, operator \n",
    "\n",
    "futures = {}\n",
    "results = {}\n",
    "\n",
    "cat_keys = [\"dipho\", \"0lep_1tau\", \"0lep_2tau\", \"1lep_1tau\", \"2lep_0tau\", \"1lep_0tau\"]\n",
    "\n",
    "for process_key in chunks:\n",
    "    print (\"start process {}\".format(process_key))\n",
    "    #if key != \"signal\": continue\n",
    "    #futures[process_key] = client.map(process, chunks[process_key], retries=5)\n",
    "    futures[process_key] = c.map(process, chunks[process_key], retries=5)\n",
    "    \n",
    "    results_local = []\n",
    "    results[process_key] = {}\n",
    "    ## do you really need this while?\n",
    "    while len(results_local) < len(chunks[process_key]): \n",
    "        ac = as_completed(futures[process_key], with_results=True)\n",
    "        for future, result in ac:\n",
    "            results_local.append(result)\n",
    "            \n",
    "    ## merge histograms by the key\n",
    "    for cat_key in cat_keys: \n",
    "        dicts = [results_local[i][cat_key] for i in range(len(results_local))]  \n",
    "        counter = collections.Counter() \n",
    "        for d in dicts:  \n",
    "            counter.update(d) \n",
    "        results[process_key][cat_key] = dict(counter) "
   ]
  },
  {
   "cell_type": "markdown",
   "metadata": {},
   "source": [
    "## save to disk?\n",
    "\n",
    "- foler1: cat (dipho, 0lep_1tau, 0lep_2tau...)\n",
    "    + folder2: process (data, signal, ZG...)\n",
    "        - folder3: hists (pT, eta, phi...)"
   ]
  },
  {
   "cell_type": "code",
   "execution_count": 16,
   "metadata": {},
   "outputs": [
    {
     "data": {
      "text/plain": [
       "dict_keys(['EGamma_2018A', 'EGamma_2018B', 'EGamma_2018C', 'EGamma_2018D', 'DYJets', 'ttbar', 'ZG', 'WG', 'GJets_HT40To100', 'GJets_HT100To200', 'GJets_HT200To400', 'GJets_HT400To600', 'GJets_HT600ToInf', 'QCD_pT30To40', 'QCD_pT40ToInf', 'Diphoton', 'ZH', 'signal'])"
      ]
     },
     "execution_count": 16,
     "metadata": {},
     "output_type": "execute_result"
    }
   ],
   "source": [
    "results.keys()"
   ]
  },
  {
   "cell_type": "code",
   "execution_count": 18,
   "metadata": {},
   "outputs": [
    {
     "data": {
      "text/plain": [
       "dict_keys(['dipho', '0lep_1tau', '0lep_2tau', '1lep_1tau', '2lep_0tau', '1lep_0tau'])"
      ]
     },
     "execution_count": 18,
     "metadata": {},
     "output_type": "execute_result"
    }
   ],
   "source": [
    "results['signal'].keys()"
   ]
  },
  {
   "cell_type": "code",
   "execution_count": 19,
   "metadata": {},
   "outputs": [
    {
     "data": {
      "text/plain": [
       "dict_keys(['pho_pT1', 'pho_pT2', 'pho_pTom1', 'pho_pTom2', 'pho_eta1', 'pho_eta2', 'pho_phi1', 'pho_phi2', 'pho_id1', 'pho_id2', 'tau_pT1', 'tau_eta1', 'tau_phi1', 'tau_deeptau_vs_j_1', 'tau_deeptau_vs_m_1', 'tau_deeptau_vs_e_1', 'n_tau', 'mtautau', 'dR_tautau', 'tau_pT2', 'tau_eta2', 'tau_phi2', 'tau_deeptau_vs_j_2', 'tau_deeptau_vs_m_2', 'tau_deeptau_vs_e_2', 'muon_pT1', 'muon_eta1', 'muon_phi1', 'muon_iso1', 'n_muon', 'mmumu', 'dR_mumu', 'muon_pT2', 'muon_eta2', 'muon_phi2', 'muon_iso2', 'electron_pT1', 'electron_eta1', 'electron_phi1', 'electron_iso1', 'n_electron', 'mee', 'dR_ee', 'electron_pT2', 'electron_eta2', 'electron_phi2', 'electron_iso2'])"
      ]
     },
     "execution_count": 19,
     "metadata": {},
     "output_type": "execute_result"
    }
   ],
   "source": [
    "results['signal']['dipho'].keys()"
   ]
  },
  {
   "cell_type": "code",
   "execution_count": 14,
   "metadata": {},
   "outputs": [
    {
     "name": "stdout",
     "output_type": "stream",
     "text": [
      "CPU times: user 3.08 s, sys: 5.15 s, total: 8.23 s\n",
      "Wall time: 11 s\n"
     ]
    }
   ],
   "source": [
    "%%time\n",
    "from subprocess import call\n",
    "import json\n",
    "\n",
    "process_keys = results.keys()\n",
    "cat_keys = results['signal'].keys()\n",
    "\n",
    "tag = \"basic\"\n",
    "\n",
    "for cat_key in cat_keys:\n",
    "    for process_key in process_keys:\n",
    "        dirname = './hists/' + tag + '/' + cat_key + '/' + process_key + '/'\n",
    "        call('mkdir -p ' + dirname, shell=True)\n",
    "        for hist_key in results[process_key][cat_key].keys():\n",
    "            histname = dirname + hist_key\n",
    "            results[process_key][cat_key][hist_key].to_json(histname+\".json\")\n",
    "            #with open(histname, \"w\") as f:\n",
    "            #    data = json.dump(results[process_key][cat_key][hist_key].to_json(histname+\".json\"), f)"
   ]
  },
  {
   "cell_type": "code",
   "execution_count": 49,
   "metadata": {},
   "outputs": [
    {
     "name": "stdout",
     "output_type": "stream",
     "text": [
      "Diphoton\n",
      "DYJets\n",
      "EGamma_2018A\n",
      "EGamma_2018B\n",
      "EGamma_2018C\n",
      "EGamma_2018D\n",
      "GJets_HT100To200\n",
      "GJets_HT200To400\n",
      "GJets_HT400To600\n",
      "GJets_HT40To100\n",
      "GJets_HT600ToInf\n",
      "QCD_pT30To40\n",
      "QCD_pT40ToInf\n",
      "signal\n",
      "ttbar\n",
      "WG\n",
      "ZG\n",
      "ZH\n"
     ]
    }
   ],
   "source": [
    "%%bash\n",
    "ls hists/basic/dipho"
   ]
  },
  {
   "cell_type": "markdown",
   "metadata": {},
   "source": [
    "## scratch"
   ]
  },
  {
   "cell_type": "code",
   "execution_count": 158,
   "metadata": {},
   "outputs": [
    {
     "data": {
      "text/plain": [
       "dict_keys(['EGamma_2018A', 'EGamma_2018B', 'EGamma_2018C', 'EGamma_2018D', 'DYJets', 'ttbar', 'ZG', 'WG', 'GJets_HT40To100', 'GJets_HT100To200', 'GJets_HT200To400', 'GJets_HT400To600', 'GJets_HT600ToInf', 'QCD_pT30To40', 'QCD_pT40ToInf', 'Diphoton', 'ZH', 'signal'])"
      ]
     },
     "execution_count": 158,
     "metadata": {},
     "output_type": "execute_result"
    }
   ],
   "source": [
    "chunks.keys()"
   ]
  },
  {
   "cell_type": "code",
   "execution_count": 10,
   "metadata": {},
   "outputs": [
    {
     "name": "stdout",
     "output_type": "stream",
     "text": [
      "CPU times: user 5.28 s, sys: 107 ms, total: 5.39 s\n",
      "Wall time: 7.63 s\n"
     ]
    }
   ],
   "source": [
    "%%time\n",
    "#obj_list_ = [\"electron\", \"muon\", \"tau\", \"photon\"] #, \"others\"]\n",
    "obj_list_ = [\"others\", \"idx\", \"tau\", \"photon\"]\n",
    "gHidxs = event_selector.get_gHidx(chunks[\"signal\"][0]) \n",
    "evts = event_selector.prepare_inputs(chunks[\"signal\"][0], obj_list_)\n",
    "#evts = event_selector.prepare_inputs(chunks[\"EGamma_2018A\"][0], obj_list_, isData=True)\n",
    "evts"
   ]
  },
  {
   "cell_type": "code",
   "execution_count": 15,
   "metadata": {},
   "outputs": [
    {
     "name": "stdout",
     "output_type": "stream",
     "text": [
      "CPU times: user 647 ms, sys: 9.26 ms, total: 656 ms\n",
      "Wall time: 655 ms\n"
     ]
    }
   ],
   "source": [
    "%%time\n",
    "mgg = evts.ggMass\n",
    "gHidx = gHidxs.gHidx\n",
    "mask_diphoton = event_selector.select_photon(evts.Photon, gHidx, mgg)"
   ]
  },
  {
   "cell_type": "code",
   "execution_count": 34,
   "metadata": {},
   "outputs": [
    {
     "name": "stdout",
     "output_type": "stream",
     "text": [
      "33831\n",
      "[2 4 1 ... 1 2 2]\n",
      "CPU times: user 44.4 ms, sys: 1.99 ms, total: 46.4 ms\n",
      "Wall time: 42.7 ms\n"
     ]
    }
   ],
   "source": [
    "%%time\n",
    "event_selector.process_dipho_1tau(evts, gHidx)"
   ]
  },
  {
   "cell_type": "code",
   "execution_count": 21,
   "metadata": {},
   "outputs": [
    {
     "data": {
      "text/plain": [
       "<Array [[{chargedHadronIso: 2.58, ... ] type='16344 * var * {\"chargedHadronIso\":...'>"
      ]
     },
     "execution_count": 21,
     "metadata": {},
     "output_type": "execute_result"
    }
   ],
   "source": [
    "evts.Photon[ ak.num(evts.Photon[mask_diphoton]) == 2 ]"
   ]
  },
  {
   "cell_type": "code",
   "execution_count": 14,
   "metadata": {},
   "outputs": [
    {
     "data": {
      "text/plain": [
       "<Array [False, True, False, False, False] type='5 * bool'>"
      ]
     },
     "execution_count": 14,
     "metadata": {},
     "output_type": "execute_result"
    }
   ],
   "source": [
    "mask_diphoton[103]"
   ]
  }
 ],
 "metadata": {
  "kernelspec": {
   "display_name": "Python 3",
   "language": "python",
   "name": "python3"
  },
  "language_info": {
   "codemirror_mode": {
    "name": "ipython",
    "version": 3
   },
   "file_extension": ".py",
   "mimetype": "text/x-python",
   "name": "python",
   "nbconvert_exporter": "python",
   "pygments_lexer": "ipython3",
   "version": "3.7.9"
  }
 },
 "nbformat": 4,
 "nbformat_minor": 4
}
