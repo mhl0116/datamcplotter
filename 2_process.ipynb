{
 "cells": [
  {
   "cell_type": "code",
   "execution_count": 1,
   "metadata": {},
   "outputs": [],
   "source": [
    "%load_ext autoreload"
   ]
  },
  {
   "cell_type": "code",
   "execution_count": 2,
   "metadata": {},
   "outputs": [],
   "source": [
    "%autoreload 1"
   ]
  },
  {
   "cell_type": "code",
   "execution_count": 3,
   "metadata": {},
   "outputs": [],
   "source": [
    "%aimport event_selector\n",
    "%aimport looper_utils\n",
    "%aimport make_plots"
   ]
  },
  {
   "cell_type": "code",
   "execution_count": 4,
   "metadata": {},
   "outputs": [],
   "source": [
    "import awkward as ak\n",
    "import uproot\n",
    "import numpy as np\n",
    "from yahist import Hist1D, Hist2D"
   ]
  },
  {
   "cell_type": "markdown",
   "metadata": {},
   "source": [
    "## Load data"
   ]
  },
  {
   "cell_type": "code",
   "execution_count": 5,
   "metadata": {},
   "outputs": [
    {
     "name": "stdout",
     "output_type": "stream",
     "text": [
      "chunklist.json\n",
      "totalWeights.json\n",
      "xsection.json\n"
     ]
    }
   ],
   "source": [
    "%%bash\n",
    "ls metadata/"
   ]
  },
  {
   "cell_type": "code",
   "execution_count": 6,
   "metadata": {},
   "outputs": [
    {
     "data": {
      "text/plain": [
       "dict_keys(['EGamma_2018A', 'EGamma_2018B', 'EGamma_2018C', 'EGamma_2018D', 'DYJets', 'ttbar', 'ZG', 'WG', 'GJets_HT40To100', 'GJets_HT100To200', 'GJets_HT200To400', 'GJets_HT400To600', 'GJets_HT600ToInf', 'QCD_pT30To40', 'QCD_pT40ToInf', 'Diphoton', 'ZH', 'signal'])"
      ]
     },
     "execution_count": 6,
     "metadata": {},
     "output_type": "execute_result"
    }
   ],
   "source": [
    "import json\n",
    "with open(\"./metadata/chunklist.json\") as f:\n",
    "    chunks = json.load(f) \n",
    "chunks.keys()"
   ]
  },
  {
   "cell_type": "markdown",
   "metadata": {},
   "source": [
    "## Process data"
   ]
  },
  {
   "cell_type": "code",
   "execution_count": 7,
   "metadata": {},
   "outputs": [],
   "source": [
    "def process(args):\n",
    "    \n",
    "    import event_selector\n",
    "    import make_plots\n",
    "    \n",
    "    obj_list = [\"electron\", \"muon\", \"tau\", \"photon\", \"others\"]\n",
    "   \n",
    "    isData = \"EGamma\" in args[0]\n",
    "    events = event_selector.prepare_inputs(args, obj_list, isData=isData)\n",
    "    \n",
    "    tot_w = ak.sum(events.genWeight)\n",
    "    mgg = events.ggMass\n",
    "    \n",
    "    ## need to change gHidx\n",
    "    gHidx = event_selector.get_gHidx(args) \n",
    "    g_Hidx = gHidx.gHidx\n",
    "    mask_diphoton = event_selector.select_photon_byEvent(events.Photon, g_Hidx, mgg)\n",
    "    \n",
    "    mask_photon = event_selector.select_photon(events.Photon, g_Hidx, mgg)\n",
    "    photons_selected = events.Photon[mask_photon] \n",
    "    nPho = ak.num(photons_selected)\n",
    "    \n",
    "    mask_tau = event_selector.select_tau(events.Tau, \"all\", isTight=False)\n",
    "    ## clean by dR wrt photons\n",
    "    mask_tau = mask_tau & looper_utils.mask_by_dR(events.Tau, photons_selected, 0.2)\n",
    "    nTau = ak.num(events.Tau[mask_tau])\n",
    "    \n",
    "    mask_ele = event_selector.select_electron(events.Electron, isTight=False)\n",
    "    mask_ele = mask_ele & looper_utils.mask_by_dR(events.Electron, photons_selected, 0.2)\n",
    "    nEle = ak.num(events.Electron[mask_ele])\n",
    "    \n",
    "    mask_mu = event_selector.select_muon(events.Muon, isTight=False)\n",
    "    mask_mu = mask_mu & looper_utils.mask_by_dR(events.Muon, photons_selected, 0.2)\n",
    "    nMu = ak.num(events.Muon[mask_mu])\n",
    "    \n",
    "    sum_charge = (ak.sum(events.Tau.charge, axis=1) + ak.sum(events.Electron.charge, axis=1) + ak.sum(events.Muon.charge, axis=1) == 0) \n",
    "    mask_dR_mll_0lep_2tau = looper_utils.mask_by_dR_mll_0lep_2tau(events.Tau[mask_tau], (0.2,3.5), (30,140))\n",
    "    mask_dR_mll_1mu_1tau = looper_utils.mask_by_dR_mll_1lep_1tau(events.Tau[mask_tau], events.Muon[mask_mu], (0.3,3.5), (20,120))\n",
    "    mask_dR_mll_1ele_1tau = looper_utils.mask_by_dR_mll_1lep_1tau(events.Tau[mask_tau], events.Electron[mask_ele], (0.3,3.5), (20,120))\n",
    "    \n",
    "    mask_dipho = (nPho == 2)\n",
    "    mask_0lep_1tau = (nPho == 2) & (nTau == 1) & (nEle == 0) & (nMu == 0)\n",
    "    mask_0lep_2tau = (nPho == 2) & (nTau == 2) & (nEle == 0) & (nMu == 0) & (sum_charge) & (mask_dR_mll_0lep_2tau)\n",
    "    mask_2lep_0tau = (nPho == 2) & (nTau == 0) & (nEle + nMu == 2) & (sum_charge)\n",
    "    mask_1lep_0tau = (nPho == 2) & (nTau == 0) & (nEle + nMu == 1)\n",
    "    \n",
    "    mask_1mu_1tau = (nPho == 2) & (nTau == 1) & (nEle == 0) & (nMu == 1) & (sum_charge) & (mask_dR_mll_1mu_1tau)\n",
    "    mask_1ele_1tau = (nPho == 2) & (nTau == 1) & (nEle == 1) & (nMu == 0) & (sum_charge) & (mask_dR_mll_1ele_1tau)\n",
    "    mask_1lep_1tau = (mask_1mu_1tau) | (mask_1ele_1tau)\n",
    "    \n",
    "    masks = {\"dipho\": mask_dipho,\n",
    "             \"0lep_1tau\": mask_0lep_1tau,\n",
    "             \"0lep_2tau\": mask_0lep_2tau,\n",
    "             \"1lep_1tau\": mask_1lep_1tau,\n",
    "             \"2lep_0tau\": mask_2lep_0tau,\n",
    "             \"1lep_0tau\": mask_1lep_0tau}\n",
    "    \n",
    "    hists = {}\n",
    "    \n",
    "    for key, mask in masks.items():\n",
    "        print (key)\n",
    "        #hists[key] = process_event(genWeight[mask], evt_vars[mask])\n",
    "        #print (\"process diphoton\")\n",
    "        hists[key] =  make_plots.process_diphoton(events.Photon[mask], g_Hidx[mask], mgg[mask], events.genWeight[mask])\n",
    "        #print (\"process tau\")\n",
    "        hists[key].update( make_plots.process_tau(events.Tau[mask_tau][mask], events.genWeight[mask]))\n",
    "        #print (\"process muon\")\n",
    "        hists[key].update( make_plots.process_muon(events.Muon[mask_mu][mask], events.genWeight[mask]))\n",
    "        #print (\"process electron\")\n",
    "        hists[key].update( make_plots.process_electron(events.Electron[mask_ele][mask], events.genWeight[mask]))\n",
    "        #print (\"process tau-lep\")\n",
    "        if key == \"1lep_1tau\":\n",
    "            tmphists = hists[key].update( make_plots.process_1tau_1lep(events.Tau[mask_tau][mask], events.Muon[mask_mu][mask],\n",
    "                                                                       events.Electron[mask_ele][mask], events.genWeight[mask]))\n",
    "            #if bool(tmphists):\n",
    "            #    hists[key].update(tmphists)\n",
    "    \n",
    "    return hists"
   ]
  },
  {
   "cell_type": "code",
   "execution_count": 10,
   "metadata": {},
   "outputs": [
    {
     "name": "stdout",
     "output_type": "stream",
     "text": [
      "dipho\n",
      "0lep_1tau\n",
      "0lep_2tau\n",
      "1lep_1tau\n",
      "2lep_0tau\n",
      "1lep_0tau\n",
      "CPU times: user 7.86 s, sys: 153 ms, total: 8.01 s\n",
      "Wall time: 31.1 s\n"
     ]
    }
   ],
   "source": [
    "%%time\n",
    "hists = process(chunks[\"signal\"][0])\n",
    "#hists = process((chunks[\"signal\"][0][0], 0, 200) )\n",
    "#hists = process(chunks[\"ZH\"][0])"
   ]
  },
  {
   "cell_type": "markdown",
   "metadata": {},
   "source": [
    "## local checks"
   ]
  },
  {
   "cell_type": "code",
   "execution_count": 11,
   "metadata": {},
   "outputs": [
    {
     "data": {
      "text/html": [
       "\n",
       "        <div style=\"max-height:1000px;max-width:1500px;overflow:auto\">\n",
       "        <b>total count</b>: 354.0, <b>metadata</b>: {'label': 'mtaumu'}<br>\n",
       "        <div style=\"display:flex;\">\n",
       "            <div style=\"display:inline;\">\n",
       "                \n",
       "                <table style='border:1px solid black;'\">\n",
       "                    <thead><tr><th>bin</th><th>content</th></tr></thead>\n",
       "                    <tr><td>(0,5.17241)</td><td>0 ± 0</td></tr>\n",
       "<tr><td>(5.17241,10.3448)</td><td>0 ± 0</td></tr>\n",
       "<tr><td>(10.3448,15.5172)</td><td>0 ± 0</td></tr>\n",
       "<tr><td>(15.5172,20.6897)</td><td>0 ± 0</td></tr>\n",
       "<tr><td colspan='2'><center>[21 rows hidden]</center></td></tr>\n",
       "<tr><td>(129.31,134.483)</td><td>0 ± 0</td></tr>\n",
       "<tr><td>(134.483,139.655)</td><td>0 ± 0</td></tr>\n",
       "<tr><td>(139.655,144.828)</td><td>0 ± 0</td></tr>\n",
       "<tr><td>(144.828,150)</td><td>0 ± 0</td></tr>\n",
       "                </table>\n",
       "            \n",
       "            </div>\n",
       "            <div style=\"display:inline; margin: auto 2%;\">\n",
       "                <img src='data:image/svg+xml;base64,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'/>\n",
       "            </div>\n",
       "            </div>\n",
       "        </div>\n",
       "        "
      ],
      "text/plain": [
       "[ 0.00 ± 0.00    0.00 ± 0.00    0.00 ± 0.00    0.00 ± 0.00    8.00 ± 2.83\n",
       " 23.00 ± 4.80   18.00 ± 4.24   21.00 ± 4.58   25.00 ± 5.00   35.00 ± 5.92\n",
       " 29.00 ± 5.39   35.00 ± 5.92   26.00 ± 5.10   30.00 ± 5.48   26.00 ± 5.10\n",
       " 23.00 ± 4.80   19.00 ± 4.36   12.00 ± 3.46    7.00 ± 2.65    6.00 ± 2.45\n",
       "  7.00 ± 2.65    3.00 ± 1.73    1.00 ± 1.00    0.00 ± 0.00    0.00 ± 0.00\n",
       "  0.00 ± 0.00    0.00 ± 0.00    0.00 ± 0.00    0.00 ± 0.00]"
      ]
     },
     "execution_count": 11,
     "metadata": {},
     "output_type": "execute_result"
    }
   ],
   "source": [
    "#hists['1lep_1tau'].keys()\n",
    "#hists['dipho']['n_electron']\n",
    "#hists['0lep_2tau']['mtautau']\n",
    "hists['1lep_1tau']['mtaumu']"
   ]
  },
  {
   "cell_type": "code",
   "execution_count": 14,
   "metadata": {},
   "outputs": [
    {
     "data": {
      "text/plain": [
       "10.295630085604653"
      ]
     },
     "execution_count": 14,
     "metadata": {},
     "output_type": "execute_result"
    }
   ],
   "source": [
    "#hists['dipho']['pho_pT1'].integral\n",
    "hists['dipho']['pho_pT1'].integral_error"
   ]
  },
  {
   "cell_type": "markdown",
   "metadata": {},
   "source": [
    "## send to dask"
   ]
  },
  {
   "cell_type": "code",
   "execution_count": 12,
   "metadata": {},
   "outputs": [
    {
     "data": {
      "text/html": [
       "<table style=\"border: 2px solid white;\">\n",
       "<tr>\n",
       "<td style=\"vertical-align: top; border: 0px solid white\">\n",
       "<h3 style=\"text-align: left;\">Client</h3>\n",
       "<ul style=\"text-align: left; list-style: none; margin: 0; padding: 0;\">\n",
       "  <li><b>Scheduler: </b>tcp://169.228.130.5:4595</li>\n",
       "  <li><b>Dashboard: </b><a href='http://169.228.130.5:13346/status' target='_blank'>http://169.228.130.5:13346/status</a></li>\n",
       "</ul>\n",
       "</td>\n",
       "<td style=\"vertical-align: top; border: 0px solid white\">\n",
       "<h3 style=\"text-align: left;\">Cluster</h3>\n",
       "<ul style=\"text-align: left; list-style:none; margin: 0; padding: 0;\">\n",
       "  <li><b>Workers: </b>78</li>\n",
       "  <li><b>Cores: </b>78</li>\n",
       "  <li><b>Memory: </b>312.00 GB</li>\n",
       "</ul>\n",
       "</td>\n",
       "</tr>\n",
       "</table>"
      ],
      "text/plain": [
       "<Client: 'tcp://169.228.130.5:4595' processes=78 threads=78, memory=312.00 GB>"
      ]
     },
     "execution_count": 12,
     "metadata": {},
     "output_type": "execute_result"
    }
   ],
   "source": [
    "from dask.distributed import Client\n",
    "\n",
    "client = Client(\"tcp://169.228.130.5:4595\")\n",
    "client"
   ]
  },
  {
   "cell_type": "code",
   "execution_count": 12,
   "metadata": {},
   "outputs": [
    {
     "data": {
      "text/html": [
       "<table style=\"border: 2px solid white;\">\n",
       "<tr>\n",
       "<td style=\"vertical-align: top; border: 0px solid white\">\n",
       "<h3 style=\"text-align: left;\">Client</h3>\n",
       "<ul style=\"text-align: left; list-style: none; margin: 0; padding: 0;\">\n",
       "  <li><b>Scheduler: </b>tcp://127.0.0.1:23798</li>\n",
       "  <li><b>Dashboard: </b><a href='http://127.0.0.1:8787/status' target='_blank'>http://127.0.0.1:8787/status</a></li>\n",
       "</ul>\n",
       "</td>\n",
       "<td style=\"vertical-align: top; border: 0px solid white\">\n",
       "<h3 style=\"text-align: left;\">Cluster</h3>\n",
       "<ul style=\"text-align: left; list-style:none; margin: 0; padding: 0;\">\n",
       "  <li><b>Workers: </b>30</li>\n",
       "  <li><b>Cores: </b>30</li>\n",
       "  <li><b>Memory: </b>120.00 GB</li>\n",
       "</ul>\n",
       "</td>\n",
       "</tr>\n",
       "</table>"
      ],
      "text/plain": [
       "<Client: 'tcp://127.0.0.1:23798' processes=30 threads=30, memory=120.00 GB>"
      ]
     },
     "execution_count": 12,
     "metadata": {},
     "output_type": "execute_result"
    }
   ],
   "source": [
    "from dask.distributed import Client\n",
    "c = Client(memory_limit='4GB', n_workers=30, threads_per_worker=1)\n",
    "c"
   ]
  },
  {
   "cell_type": "code",
   "execution_count": 15,
   "metadata": {},
   "outputs": [
    {
     "name": "stderr",
     "output_type": "stream",
     "text": [
      "distributed.client - ERROR - Failed to reconnect to scheduler after 10.00 seconds, closing client\n",
      "_GatheringFuture exception was never retrieved\n",
      "future: <_GatheringFuture finished exception=CancelledError()>\n",
      "concurrent.futures._base.CancelledError\n"
     ]
    }
   ],
   "source": [
    "c.shutdown()"
   ]
  },
  {
   "cell_type": "code",
   "execution_count": 18,
   "metadata": {},
   "outputs": [
    {
     "data": {
      "text/plain": [
       "['./utils.py',\n",
       " './condor_utils.py',\n",
       " './cachepreload.py',\n",
       " './__init__.py',\n",
       " './event_selector.py',\n",
       " './looper_utils.py',\n",
       " './make_plots.py']"
      ]
     },
     "execution_count": 18,
     "metadata": {},
     "output_type": "execute_result"
    }
   ],
   "source": [
    "def g():\n",
    "    import glob\n",
    "    allpys = glob.glob(\"./*py\")\n",
    "    return allpys\n",
    "g()    "
   ]
  },
  {
   "cell_type": "code",
   "execution_count": 19,
   "metadata": {},
   "outputs": [],
   "source": [
    "x = client.submit(g)"
   ]
  },
  {
   "cell_type": "code",
   "execution_count": 20,
   "metadata": {},
   "outputs": [
    {
     "data": {
      "text/plain": [
       "['./cachepreload.py',\n",
       " './event_selector.py',\n",
       " './looper_utils.py',\n",
       " './make_plots.py',\n",
       " './utils.py']"
      ]
     },
     "execution_count": 20,
     "metadata": {},
     "output_type": "execute_result"
    }
   ],
   "source": [
    "client.gather(x)"
   ]
  },
  {
   "cell_type": "code",
   "execution_count": 14,
   "metadata": {},
   "outputs": [
    {
     "name": "stdout",
     "output_type": "stream",
     "text": [
      "start process EGamma_2018A\n",
      "start process EGamma_2018B\n",
      "start process EGamma_2018C\n",
      "start process EGamma_2018D\n",
      "start process DYJets\n",
      "start process ttbar\n",
      "start process ZG\n",
      "start process WG\n",
      "start process GJets_HT40To100\n",
      "start process GJets_HT100To200\n",
      "start process GJets_HT200To400\n",
      "start process GJets_HT400To600\n",
      "start process GJets_HT600ToInf\n",
      "start process QCD_pT30To40\n",
      "start process QCD_pT40ToInf\n",
      "start process Diphoton\n",
      "start process ZH\n",
      "start process signal\n",
      "CPU times: user 1min 4s, sys: 3.01 s, total: 1min 7s\n",
      "Wall time: 1h 16min 8s\n"
     ]
    }
   ],
   "source": [
    "%%time\n",
    "from dask.distributed import as_completed\n",
    "import collections, functools, operator \n",
    "\n",
    "futures = {}\n",
    "results = {}\n",
    "\n",
    "cat_keys = [\"dipho\", \"0lep_1tau\", \"0lep_2tau\", \"1lep_1tau\", \"2lep_0tau\", \"1lep_0tau\"]\n",
    "\n",
    "for process_key in chunks:\n",
    "    print (\"start process {}\".format(process_key))\n",
    "    #if key != \"signal\": continue\n",
    "    futures[process_key] = client.map(process, chunks[process_key], retries=5)\n",
    "    #futures[process_key] = c.map(process, chunks[process_key], retries=5)\n",
    "    \n",
    "    results_local = []\n",
    "    results[process_key] = {}\n",
    "    ## do you really need this while?\n",
    "    while len(results_local) < len(chunks[process_key]): \n",
    "        ac = as_completed(futures[process_key], with_results=True)\n",
    "        for future, result in ac:\n",
    "            results_local.append(result)\n",
    "            \n",
    "    ## merge histograms by the key\n",
    "    for cat_key in cat_keys: \n",
    "        dicts = [results_local[i][cat_key] for i in range(len(results_local))]  \n",
    "        counter = collections.Counter() \n",
    "        for d in dicts:  \n",
    "            counter.update(d) \n",
    "        results[process_key][cat_key] = dict(counter) "
   ]
  },
  {
   "cell_type": "markdown",
   "metadata": {},
   "source": [
    "## save to disk?\n",
    "\n",
    "- foler1: cat (dipho, 0lep_1tau, 0lep_2tau...)\n",
    "    + folder2: process (data, signal, ZG...)\n",
    "        - folder3: hists (pT, eta, phi...)"
   ]
  },
  {
   "cell_type": "code",
   "execution_count": 16,
   "metadata": {},
   "outputs": [
    {
     "data": {
      "text/plain": [
       "dict_keys(['EGamma_2018A', 'EGamma_2018B', 'EGamma_2018C', 'EGamma_2018D', 'DYJets', 'ttbar', 'ZG', 'WG', 'GJets_HT40To100', 'GJets_HT100To200', 'GJets_HT200To400', 'GJets_HT400To600', 'GJets_HT600ToInf', 'QCD_pT30To40', 'QCD_pT40ToInf', 'Diphoton', 'ZH', 'signal'])"
      ]
     },
     "execution_count": 16,
     "metadata": {},
     "output_type": "execute_result"
    }
   ],
   "source": [
    "results.keys()"
   ]
  },
  {
   "cell_type": "code",
   "execution_count": 18,
   "metadata": {},
   "outputs": [
    {
     "data": {
      "text/plain": [
       "dict_keys(['dipho', '0lep_1tau', '0lep_2tau', '1lep_1tau', '2lep_0tau', '1lep_0tau'])"
      ]
     },
     "execution_count": 18,
     "metadata": {},
     "output_type": "execute_result"
    }
   ],
   "source": [
    "results['signal'].keys()"
   ]
  },
  {
   "cell_type": "code",
   "execution_count": 19,
   "metadata": {},
   "outputs": [
    {
     "data": {
      "text/plain": [
       "dict_keys(['pho_pT1', 'pho_pT2', 'pho_pTom1', 'pho_pTom2', 'pho_eta1', 'pho_eta2', 'pho_phi1', 'pho_phi2', 'pho_id1', 'pho_id2', 'tau_pT1', 'tau_eta1', 'tau_phi1', 'tau_deeptau_vs_j_1', 'tau_deeptau_vs_m_1', 'tau_deeptau_vs_e_1', 'n_tau', 'mtautau', 'dR_tautau', 'tau_pT2', 'tau_eta2', 'tau_phi2', 'tau_deeptau_vs_j_2', 'tau_deeptau_vs_m_2', 'tau_deeptau_vs_e_2', 'muon_pT1', 'muon_eta1', 'muon_phi1', 'muon_iso1', 'n_muon', 'mmumu', 'dR_mumu', 'muon_pT2', 'muon_eta2', 'muon_phi2', 'muon_iso2', 'electron_pT1', 'electron_eta1', 'electron_phi1', 'electron_iso1', 'n_electron', 'mee', 'dR_ee', 'electron_pT2', 'electron_eta2', 'electron_phi2', 'electron_iso2'])"
      ]
     },
     "execution_count": 19,
     "metadata": {},
     "output_type": "execute_result"
    }
   ],
   "source": [
    "results['signal']['dipho'].keys()"
   ]
  },
  {
   "cell_type": "code",
   "execution_count": 15,
   "metadata": {},
   "outputs": [
    {
     "name": "stdout",
     "output_type": "stream",
     "text": [
      "CPU times: user 569 ms, sys: 1.65 s, total: 2.22 s\n",
      "Wall time: 5.83 s\n"
     ]
    }
   ],
   "source": [
    "%%time\n",
    "from subprocess import call\n",
    "import json\n",
    "\n",
    "process_keys = results.keys()\n",
    "cat_keys = results['signal'].keys()\n",
    "\n",
    "tag = \"basic_dR_mll_cut\"\n",
    "\n",
    "for cat_key in cat_keys:\n",
    "    for process_key in process_keys:\n",
    "        dirname = './hists/' + tag + '/' + cat_key + '/' + process_key + '/'\n",
    "        call('mkdir -p ' + dirname, shell=True)\n",
    "        for hist_key in results[process_key][cat_key].keys():\n",
    "            histname = dirname + hist_key\n",
    "            results[process_key][cat_key][hist_key].to_json(histname+\".json\")\n",
    "            #with open(histname, \"w\") as f:\n",
    "            #    data = json.dump(results[process_key][cat_key][hist_key].to_json(histname+\".json\"), f)"
   ]
  },
  {
   "cell_type": "code",
   "execution_count": 49,
   "metadata": {},
   "outputs": [
    {
     "name": "stdout",
     "output_type": "stream",
     "text": [
      "Diphoton\n",
      "DYJets\n",
      "EGamma_2018A\n",
      "EGamma_2018B\n",
      "EGamma_2018C\n",
      "EGamma_2018D\n",
      "GJets_HT100To200\n",
      "GJets_HT200To400\n",
      "GJets_HT400To600\n",
      "GJets_HT40To100\n",
      "GJets_HT600ToInf\n",
      "QCD_pT30To40\n",
      "QCD_pT40ToInf\n",
      "signal\n",
      "ttbar\n",
      "WG\n",
      "ZG\n",
      "ZH\n"
     ]
    }
   ],
   "source": [
    "%%bash\n",
    "ls hists/basic/dipho"
   ]
  },
  {
   "cell_type": "markdown",
   "metadata": {},
   "source": [
    "## scratch"
   ]
  },
  {
   "cell_type": "code",
   "execution_count": 9,
   "metadata": {},
   "outputs": [
    {
     "data": {
      "text/plain": [
       "dict_keys(['EGamma_2018A', 'EGamma_2018B', 'EGamma_2018C', 'EGamma_2018D', 'DYJets', 'ttbar', 'ZG', 'WG', 'GJets_HT40To100', 'GJets_HT100To200', 'GJets_HT200To400', 'GJets_HT400To600', 'GJets_HT600ToInf', 'QCD_pT30To40', 'QCD_pT40ToInf', 'Diphoton', 'ZH', 'signal'])"
      ]
     },
     "execution_count": 9,
     "metadata": {},
     "output_type": "execute_result"
    }
   ],
   "source": [
    "chunks.keys()"
   ]
  },
  {
   "cell_type": "code",
   "execution_count": 10,
   "metadata": {},
   "outputs": [
    {
     "name": "stdout",
     "output_type": "stream",
     "text": [
      "CPU times: user 3.73 s, sys: 149 ms, total: 3.88 s\n",
      "Wall time: 6.07 s\n"
     ]
    }
   ],
   "source": [
    "%%time\n",
    "#obj_list_ = [\"electron\", \"muon\", \"tau\", \"photon\"] #, \"others\"]\n",
    "obj_list_ = [\"others\", \"idx\", \"tau\", \"photon\"]\n",
    "gHidxs = event_selector.get_gHidx(chunks[\"signal\"][0]) \n",
    "evts = event_selector.prepare_inputs(chunks[\"signal\"][0], obj_list_)\n",
    "#evts = event_selector.prepare_inputs(chunks[\"EGamma_2018A\"][0], obj_list_, isData=True)\n",
    "evts"
   ]
  },
  {
   "cell_type": "code",
   "execution_count": 15,
   "metadata": {},
   "outputs": [],
   "source": [
    "mgg = evts.ggMass\n",
    "mask_photon = event_selector.select_photon(evts.Photon, gHidxs.gHidx, mgg)\n",
    "photons_selected = evts.Photon[mask_photon] \n",
    "mask_tau = event_selector.select_tau(evts.Tau, \"all\", isTight=False)\n",
    "## clean by dR wrt photons\n",
    "mask_tau = mask_tau & looper_utils.mask_by_dR(evts.Tau, photons_selected, 0.2)\n",
    "nTau = ak.num(evts.Tau[mask_tau])"
   ]
  },
  {
   "cell_type": "code",
   "execution_count": 24,
   "metadata": {},
   "outputs": [
    {
     "data": {
      "text/plain": [
       "<Array [None, None, None, None, ... None] type='33831 * option[var * {\"chargedIs...'>"
      ]
     },
     "execution_count": 24,
     "metadata": {},
     "output_type": "execute_result"
    }
   ],
   "source": [
    "evts.Tau.mask[nTau == 2]"
   ]
  },
  {
   "cell_type": "code",
   "execution_count": 34,
   "metadata": {},
   "outputs": [
    {
     "name": "stdout",
     "output_type": "stream",
     "text": [
      "33831\n",
      "[2 4 1 ... 1 2 2]\n",
      "CPU times: user 44.4 ms, sys: 1.99 ms, total: 46.4 ms\n",
      "Wall time: 42.7 ms\n"
     ]
    }
   ],
   "source": [
    "%%time\n",
    "event_selector.process_dipho_1tau(evts, gHidx)"
   ]
  },
  {
   "cell_type": "code",
   "execution_count": 21,
   "metadata": {},
   "outputs": [
    {
     "data": {
      "text/plain": [
       "<Array [[{chargedHadronIso: 2.58, ... ] type='16344 * var * {\"chargedHadronIso\":...'>"
      ]
     },
     "execution_count": 21,
     "metadata": {},
     "output_type": "execute_result"
    }
   ],
   "source": [
    "evts.Photon[ ak.num(evts.Photon[mask_diphoton]) == 2 ]"
   ]
  },
  {
   "cell_type": "code",
   "execution_count": 14,
   "metadata": {},
   "outputs": [
    {
     "data": {
      "text/plain": [
       "<Array [False, True, False, False, False] type='5 * bool'>"
      ]
     },
     "execution_count": 14,
     "metadata": {},
     "output_type": "execute_result"
    }
   ],
   "source": [
    "mask_diphoton[103]"
   ]
  }
 ],
 "metadata": {
  "kernelspec": {
   "display_name": "Python 3",
   "language": "python",
   "name": "python3"
  },
  "language_info": {
   "codemirror_mode": {
    "name": "ipython",
    "version": 3
   },
   "file_extension": ".py",
   "mimetype": "text/x-python",
   "name": "python",
   "nbconvert_exporter": "python",
   "pygments_lexer": "ipython3",
   "version": "3.7.9"
  }
 },
 "nbformat": 4,
 "nbformat_minor": 4
}
